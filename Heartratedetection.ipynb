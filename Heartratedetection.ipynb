{
 "cells": [
  {
   "cell_type": "code",
   "execution_count": 2,
   "metadata": {},
   "outputs": [],
   "source": [
    "import os\n",
    "import dlib, skvideo\n",
    "import skvideo.io\n",
    "import numpy as np\n",
    "import cv2\n",
    "import re\n",
    "import warnings\n",
    "import matplotlib.pyplot as plt\n",
    "from matplotlib import patches\n",
    "from pyVHR.signals.pyramid import *\n",
    "from pyVHR.utils.SkinDetect import SkinDetect\n",
    "\n",
    "class Video:\n",
    "    \"\"\"\n",
    "    Basic class for extracting ROIs from video frames\n",
    "    \"\"\"\n",
    "\n",
    "    facePadding = 0.2      # dlib param for padding\n",
    "    filenameCompressed = \"croppedFaces.npz\"   # filename to store on disk\n",
    "    saveCropFaces = False   # enable the storage on disk of the cropped faces\n",
    "    loadCropFaces = False   # enable the loading of cropped faces from disk\n",
    "\n",
    "\n",
    "    def __init__(self, filename, verb=0):\n",
    "        self.filename = filename\n",
    "        self.faces = np.array([])       # empty array of cropped faces (RGB)\n",
    "        self.processedFaces = np.array([])\n",
    "        self.faceSignal = np.array([])   # empty array of face signals (RGB) after roi/skin extraction\n",
    "\n",
    "        self.verb = verb\n",
    "        self.cropSize = [160,160]       # param for cropping\n",
    "        self.typeROI = 'rect'           # type of rois between ['rect', 'skin']\n",
    "        self.detector = 'dlib'\n",
    "\n",
    "        self.doEVM =False\n",
    "        self.EVMalpha = 20\n",
    "        self.EVMlevels = 3\n",
    "        self.EVMlow = .8\n",
    "        self.EVMhigh = 4\n",
    "        self.time_vid_start = 0\n",
    "        self.rectCoords = [[0,0, self.cropSize[0], self.cropSize[1]]]  # default 'rect' roi coordinates\n",
    "        self.skinThresh_fix = [40, 80]# default min values of Sauturation and Value (HSV) for 'skin' roi\n",
    "        self.skinThresh_adapt = 0.2\n",
    "\n",
    "    def getCroppedFaces(self, detector='mtcnn', extractor='skvideo'):\n",
    "        \"\"\" Time is in seconds\"\"\"\n",
    "\n",
    "        # -- check if cropped faces already exists on disk\n",
    "        path, name = os.path.split(self.filename)\n",
    "        filenamez = path + '/' + self.filenameCompressed\n",
    "        self.detector = detector\n",
    "        self.extractor = extractor\n",
    "         # -- if compressed exists... load it\n",
    "        self.cropped = False\n",
    "            # -- metadata\n",
    "        metadata = skvideo.io.ffprobe(self.filename)\n",
    "        self.numFrames = int(eval(metadata[\"video\"][\"@nb_frames\"]))\n",
    "        self.height = int(eval(metadata[\"video\"][\"@height\"]))\n",
    "        self.width = int(eval(metadata[\"video\"][\"@width\"]))\n",
    "        self.frameRate = int(np.round(eval(metadata[\"video\"][\"@avg_frame_rate\"])))\n",
    "        self.duration = float(eval(metadata[\"video\"][\"@duration\"]))\n",
    "        self.codec = metadata[\"video\"][\"@codec_name\"]\n",
    "        # -- load video on a ndarray with skvideo or openCV\n",
    "        video = None\n",
    "        if extractor == 'opencv':\n",
    "            video = self.__opencvRead()\n",
    "        else:\n",
    "            video = skvideo.io.vread(self.filename)\n",
    "    # else if the video signal is stored as single frames\n",
    "        \n",
    "        print('\\n\\n' + detector + '\\n\\n')\n",
    "        self.__extractFace(video, method=detector)\n",
    "            # -- store cropped faces on disk\n",
    "            \n",
    "\n",
    "        if '1' in str(self.verb):\n",
    "            self.printVideoInfo()\n",
    "            if not self.cropped:\n",
    "                print('      Extracted faces: not found! Detecting...')\n",
    "            else:\n",
    "                print('      Extracted faces: found! Loading...')\n",
    "    def setMask(self, typeROI='rect',\n",
    "                rectCoords=None, rectRegions=None,\n",
    "                skinThresh_fix=None, skinThresh_adapt=None):\n",
    "        self.typeROI = typeROI\n",
    "        if self.typeROI == 'rect':\n",
    "            self.rectCoords = self.__rectRegions2Coord(rectRegions = ['forehead', 'lcheek', 'rcheek', 'nose'])\n",
    "        elif self.typeROI == 'skin_adapt' and skinThresh_adapt is not None:\n",
    "            # Skin limits for HSV\n",
    "            self.skinThresh_adapt = skinThresh_adapt\n",
    "        elif self.typeROI == 'skin_fix' and skinThresh_fix is not None:\n",
    "            # Skin limits for HSV\n",
    "            self.skinThresh_fix = skinThresh_fix\n",
    "    def printVideoInfo(self):\n",
    "        print('\\n   * Video filename: %s' %self.filename)\n",
    "        print('         Total frames: %s' %self.numFrames)\n",
    "        print('             Duration: %s (sec)' %np.round(self.duration,2))\n",
    "        print('           Frame rate: %s (fps)' % self.frameRate)\n",
    "        print('                Codec: %s' % self.codec)\n",
    "\n",
    "        printOK = 1\n",
    "        try:\n",
    "            f = self.numFrames\n",
    "        except AttributeError:\n",
    "            printOK = 0\n",
    "\n",
    "        if printOK:\n",
    "            print('           Num frames: %s' % self.numFrames)\n",
    "            print('               Height: %s' % self.height)\n",
    "            print('                Width: %s' % self.height)\n",
    "            print('             Detector: %s' % self.detector)\n",
    "            print('            Extractor: %s' % self.extractor)          \n",
    "    def __opencvRead(self):\n",
    "        vid = cv2.VideoCapture(self.filename)\n",
    "        frames = []\n",
    "        retval, frame = vid.read()\n",
    "        while retval == True:\n",
    "            frames.append(cv2.cvtColor(frame, cv2.COLOR_BGR2RGB))\n",
    "            retval, frame = vid.read()\n",
    "        vid.release()\n",
    "        return np.asarray(frames)\n",
    "    \n",
    "    def extractSignal(self, frameSubset, count=None):\n",
    "        if self.typeROI == 'rect':\n",
    "            return self.__extractRectSignal(frameSubset)\n",
    "\n",
    "        elif self.typeROI == 'skin_adapt' or self.typeROI == 'skin_fix':\n",
    "            return self.__extractSkinSignal(frameSubset, count)\n",
    "        \n",
    "    def getMeanRGB(self):\n",
    "\n",
    "        n_frames = len(self.faceSignal)\n",
    "        n_roi = len(self.faceSignal[0])\n",
    "        rgb = np.zeros([3, n_frames])\n",
    "\n",
    "        for i in range(n_frames):\n",
    "            mean_rgb = 0\n",
    "\n",
    "            for roi in self.faceSignal[i]:\n",
    "                idx = roi!=0\n",
    "                idx2 = np.logical_and(np.logical_and(idx[:,:,0], idx[:,:,1]), idx[:,:,2])\n",
    "                roi = roi[idx2]\n",
    "                if len(roi)==0:\n",
    "                    mean_rgb += 0\n",
    "                else:\n",
    "                    mean_rgb += np.mean(roi, axis=0)\n",
    "\n",
    "            rgb[:,i] = mean_rgb/n_roi\n",
    "        return rgb\n",
    "\n",
    "\n",
    "    def __extractSkinSignal(self, frameSubset, count=None, frameByframe=False):\n",
    "        \"\"\" Extract R,G,B values from skin-based roi of a frame subset \"\"\"\n",
    "\n",
    "        assert self.processedFaces.size > 0, \"Faces are not processed yet! Please call runOffline first\"\n",
    "\n",
    "        self.faceSignal = []\n",
    "\n",
    "        cp = self.cropSize\n",
    "        skinFace = np.zeros([cp[0],cp[1],3], dtype='uint8')\n",
    "\n",
    "        # -- loop on frames\n",
    "        for i,r in enumerate(frameSubset):\n",
    "            face = self.processedFaces[r]\n",
    "\n",
    "            if self.typeROI == 'skin_fix':\n",
    "                assert len(self.skinThresh_fix) == 2, \"Please provide 2 values for Fixed Skin Detector\"\n",
    "                lower = np.array([5, self.skinThresh_fix[0], self.skinThresh_fix[1]], dtype = \"uint8\")\n",
    "                upper = np.array([15, 255, 255], dtype = \"uint8\")\n",
    "                converted = cv2.cvtColor(face, cv2.COLOR_RGB2HSV)\n",
    "                skinMask = cv2.inRange(converted, lower, upper)\n",
    "                skinFace = cv2.bitwise_and(face, face, mask=skinMask)\n",
    "                self.faceSignal.append([skinFace])\n",
    "            #if self.typeROI == 'skin_fix_ycbcr':\n",
    "                #assert len(self.skinThresh_fix) == 2, \"Please provide 2 values for Fixed Skin Detector\"\n",
    "                #minRange = np.array([0,133,77],dtype = \"uint8\")\n",
    "                #maxRange = np.array([235,173,127],dtype = \"uint8\")\n",
    "                #YCRimage = cv2.cvtColor(face,cv2.COLOR_BGR2YCR_CB)\n",
    "                #apply min or max range on skin area in our image\n",
    "                #skinArea = cv2.inRange(YCRimage,minRange,maxRange)\n",
    "                #detectedSkin = cv2.bitwise_and(face, face, mask = skinArea)\n",
    "                #self.faceSignal.append([skinFace])\n",
    "            elif self.typeROI == 'skin_adapt':     \n",
    "                sd = SkinDetect(strength=self.skinThresh_adapt)\n",
    "                sd.compute_stats(face)\n",
    "                skinFace = sd.get_skin(face, filt_kern_size=7, verbose=False, plot=False) \n",
    "                self.faceSignal.append([skinFace])\n",
    "\n",
    "    def __extractFace(self, video, method, t_downsample_rate=2):\n",
    "\n",
    "        # -- save on GPU\n",
    "        if method == 'dlib':\n",
    "            # -- dlib detector\n",
    "            detector = dlib.get_frontal_face_detector()\n",
    "            if os.path.exists(\"/Users/rupakkatwal/Downloads/pyVHR-master/pyVHR/resources/shape_predictor_68_face_landmarks.dat\"):\n",
    "                file_pred = \"/Users/rupakkatwal/Downloads/pyVHR-master/pyVHR/resources/shape_predictor_68_face_landmarks.dat\"\n",
    "                predictor = dlib.shape_predictor(file_pred)\n",
    "            self.faces = np.zeros([self.numFrames, self.cropSize[0], self.cropSize[1], 3],\n",
    "                                  dtype='uint8')\n",
    "\n",
    "            # -- loop on frames\n",
    "            cp = self.cropSize\n",
    "            self.faces = np.zeros([self.numFrames,cp[0],cp[1],3], dtype='uint8')\n",
    "            for i in range(self.numFrames):\n",
    "                frame = video[i,:,:,:]\n",
    "                # -- Detect face using dlib\n",
    "                self.numFaces = 0\n",
    "                facesRect = detector(frame, 0)\n",
    "                if len(facesRect) > 0:\n",
    "                    # -- process only the first face\n",
    "                    self.numFaces += 1\n",
    "                    rect = facesRect[0]\n",
    "                    x0 = rect.left()\n",
    "                    y0 = rect.top()\n",
    "                    w = rect.width()\n",
    "                    h = rect.height()\n",
    "\n",
    "                    # -- extract cropped faces\n",
    "                    shape = predictor(frame, rect)\n",
    "                    f = dlib.get_face_chip(frame, shape, size=self.cropSize[0], padding=self.facePadding)\n",
    "                    self.faces[i,:,:,:] = f.astype('uint8')\n",
    "                else:\n",
    "                    print(\"No face detected at frame %s\",i)\n",
    "        elif method == 'mtcnn_kalman':\n",
    "            #mtcnn detector\n",
    "    \n",
    "            from mtcnn import MTCNN\n",
    "            detector = MTCNN()\n",
    "            h0 = None\n",
    "            w0 = None\n",
    "            crop = np.zeros([2,2,2])\n",
    "            skipped_frames = 0\n",
    "\n",
    "            while crop.shape[:2] != (h0,w0):\n",
    "                if skipped_frames > 0:\n",
    "                    print(\"\\nWARNING! Strange Face Crop... Skipping frame \" + str(skipped_frames) + '...')\n",
    "                frame = video[skipped_frames,:,:,:]\n",
    "                detection = detector.detect_faces(frame)\n",
    "                if len(detection) == 0:\n",
    "                    skipped_frames += 1\n",
    "                    continue\n",
    "                if len(detection) > 1:\n",
    "                    areas = []\n",
    "                    for det in detection:\n",
    "                        areas.append(det['box'][2] * det['box'][3])\n",
    "                    areas = np.array(areas)\n",
    "                    ia = np.argsort(areas)\n",
    "                    [x0, y0, w0, h0] = detection[ia[-1]]['box']\n",
    "                else:\n",
    "                    try:\n",
    "                        print(self.filename)\n",
    "                        [x0, y0, w0, h0] = detection[0]['box']\n",
    "                    except:\n",
    "                        skipped_frames += 1\n",
    "                        continue\n",
    "\n",
    "                w0 = 2*(int(w0/2))\n",
    "                h0 = 2*(int(h0/2))\n",
    "                #Cropping face\n",
    "                crop = frame[y0:y0+h0, x0:x0+w0, :]\n",
    "\n",
    "                skipped_frames += 1\n",
    "\n",
    "            self.cropSize = crop.shape[:2]\n",
    "\n",
    "            if skipped_frames > 1:\n",
    "                self.numFrames = self.numFrames - skipped_frames\n",
    "                new_time_vid_start = skipped_frames / self.frameRate\n",
    "\n",
    "                if new_time_vid_start > self.time_vid_start:\n",
    "                    self.time_vid_start = new_time_vid_start\n",
    "                    print(\"\\tVideo now starts at \" + str(self.time_vid_start) + \" seconds\\n\")\n",
    "\n",
    "            self.faces = np.zeros([self.numFrames, self.cropSize[0], self.cropSize[1], 3], dtype='uint8')\n",
    "            self.faces[0,:,:,:] = crop\n",
    "\n",
    "            #set the initial tracking window\n",
    "            state = np.array([int(x0+w0/2),int(y0+h0/2),0,0], dtype='float64') # initial position\n",
    "\n",
    "            #Setting up Kalman Filter\n",
    "            kalman = cv2.KalmanFilter(4,2,0)\n",
    "            kalman.transitionMatrix = np.array([[1., 0., .1, 0.],\n",
    "                                                [0., 1., 0., .1],\n",
    "                                                [0., 0., 1., 0.],\n",
    "                                                [0., 0., 0., 1.]])\n",
    "            kalman.measurementMatrix = 1. * np.eye(2, 4)\n",
    "            kalman.processNoiseCov = 1e-5 * np.eye(4, 4)\n",
    "            kalman.measurementNoiseCov = 1e-3 * np.eye(2, 2)\n",
    "            kalman.errorCovPost = 1e-1 * np.eye(4, 4)\n",
    "            kalman.statePost = state\n",
    "            measurement = np.array([int(x0+w0/2), int(y0+h0/2)], dtype='float64')\n",
    "\n",
    "            for i in range(skipped_frames,self.numFrames):\n",
    "                frame = video[i,:,:,:]\n",
    "\n",
    "                if i%t_downsample_rate == 0:\n",
    "                    detection = detector.detect_faces(frame)\n",
    "                    if len(detection) != 0:\n",
    "                        areas = []\n",
    "                        if len(detection) > 1:\n",
    "                            for det in detection:\n",
    "                                areas.append(det['box'][2] * det['box'][3])\n",
    "                            areas = np.array(areas)\n",
    "                            ia = np.argsort(areas)\n",
    "\n",
    "                            [x0, y0, w, h] = detection[ia[-1]]['box']\n",
    "                        else:\n",
    "                            [x0, y0, w, h] = detection[0]['box']\n",
    "\n",
    "                        not_found = False\n",
    "                    else:\n",
    "                        not_found = True\n",
    "\n",
    "                prediction = kalman.predict() #prediction\n",
    "\n",
    "                if i%t_downsample_rate == 0 and not not_found:\n",
    "                    measurement = np.array([x0+w/2, y0+h/2], dtype='float64')\n",
    "                    posterior = kalman.correct(measurement)\n",
    "                    [cx0, cy0, wn, hn] = posterior.astype(int)\n",
    "                else:\n",
    "                    [cx0, cy0, wn, hn] = prediction.astype(int)\n",
    "\n",
    "                #Cropping with new bounding box\n",
    "                crop = frame[int(cy0-h0/2):int(cy0+h0/2), int(cx0-w0/2):int(cx0+w0/2), :]\n",
    "\n",
    "                if crop.shape[:2] != self.faces.shape[1:3]:\n",
    "                    print(self.filename)\n",
    "                    print(\"WARNING! Strange face crop: video frame \" + str(i) +\" probably does not contain the whole face... Reshaping Crop\\n\")\n",
    "                    try:\n",
    "                        crop = cv2.resize(crop, (self.faces.shape[2], self.faces.shape[1]))\n",
    "                    except:\n",
    "                        continue\n",
    "\n",
    "                self.faces[i,:,:,:] = crop.astype('uint8')\n",
    "\n",
    "        else:\n",
    "\n",
    "            raise ValueError('Unrecognized Face detection method. Please use \"dlib\" or \"mtcnn\"')\n",
    "    def showVideo(self):\n",
    "        from ipywidgets import interact\n",
    "        import ipywidgets as widgets\n",
    "\n",
    "        n = self.numFrames\n",
    "        def view_image(frame):\n",
    "\n",
    "            idx = frame-1\n",
    "\n",
    "            if self.processedFaces.size == 0:\n",
    "                face = self.faces[idx]\n",
    "            else:\n",
    "                face = self.processedFaces[idx]\n",
    "\n",
    "            if self.typeROI == 'rect':\n",
    "                plt.imshow(face, interpolation='nearest')\n",
    "\n",
    "                ax = plt.gca()\n",
    "\n",
    "                for coord in self.rectCoords:\n",
    "                    rect = patches.Rectangle((coord[0],coord[1]),\n",
    "                            coord[2],coord[3],linewidth=1,edgecolor='y',facecolor='none')\n",
    "                    ax.add_patch(rect)\n",
    "\n",
    "            elif self.typeROI == 'skin_fix':\n",
    "                lower = np.array([0, self.skinThresh_fix[0], self.skinThresh_fix[1]], dtype = \"uint8\")\n",
    "                upper = np.array([20, 255, 255], dtype = \"uint8\")\n",
    "                converted = cv2.cvtColor(face, cv2.COLOR_RGB2HSV)\n",
    "                skinMask = cv2.inRange(converted, lower, upper)\n",
    "                skinFace = cv2.bitwise_and(face, face, mask=skinMask)\n",
    "                plt.imshow(skinFace, interpolation='nearest')\n",
    "\n",
    "            elif self.typeROI == 'skin_adapt':\n",
    "                sd = SkinDetect(strength=self.skinThresh_adapt)\n",
    "                sd.compute_stats(face)\n",
    "                skinFace = sd.get_skin(face, filt_kern_size=7, verbose=False, plot=False)\n",
    "                plt.imshow(skinFace, interpolation='nearest')\n",
    "\n",
    "        interact(view_image, frame=widgets.IntSlider(min=1, max=n, step=1, value=1))\n",
    "        \n",
    "    def __sort_nicely(self, l):\n",
    "        \"\"\" Sort the given list in the way that humans expect.\n",
    "        \"\"\"\n",
    "        convert = lambda text: int(text) if text.isdigit() else text\n",
    "        alphanum_key = lambda key: [ convert(c) for c in re.split('([0-9]+)', key) ]\n",
    "        l.sort( key=alphanum_key )\n",
    "        return l  \n",
    "    "
   ]
  },
  {
   "cell_type": "code",
   "execution_count": 3,
   "metadata": {},
   "outputs": [],
   "source": [
    "import numpy as np\n",
    "from scipy.signal import butter, lfilter, filtfilt, freqz\n",
    "from scipy import signal\n",
    "\n",
    "def running_mean(x, N):\n",
    "    cumsum_1 = np.cumsum(np.insert(x[0], 0, 0)) \n",
    "    cumsum_1 = (cumsum_1[N:] - cumsum_1[:-N]) / float(N)\n",
    "    cumsum_2 = np.cumsum(np.insert(x[1], 0, 0)) \n",
    "    cumsum_2 = (cumsum_2[N:] - cumsum_2[:-N]) / float(N)\n",
    "    cumsum_3 = np.cumsum(np.insert(x[2], 0, 0)) \n",
    "    cumsum_3 = (cumsum_3[N:] - cumsum_3[:-N]) / float(N)\n",
    "    rgb = [cumsum_1,cumsum_2,cumsum_3]\n",
    "    return rgb\n",
    "\n",
    "def BP_filter(x, minHz, maxHz, fs, order=6):\n",
    "    b, a = butter(order, Wn=[minHz, maxHz], fs=fs, btype='bandpass')\n",
    "    y = lfilter(b, a, x)\n",
    "    return y\n",
    "\n",
    "def zeroMeanSTDnorm(x):\n",
    "    # -- normalization along rows (1-3 channels)\n",
    "    mx = x.mean(axis=1).reshape(-1,1)\n",
    "    sx = x.std(axis=1).reshape(-1,1)\n",
    "    y = (x - mx) / sx\n",
    "    return y"
   ]
  },
  {
   "cell_type": "code",
   "execution_count": 4,
   "metadata": {},
   "outputs": [],
   "source": [
    "import numpy as np\n",
    "from plotly.subplots import make_subplots\n",
    "from scipy.signal import find_peaks, stft, lfilter, butter, welch\n",
    "from plotly.colors import n_colors\n",
    "import plotly.graph_objects as go\n",
    "from scipy.interpolate import interp1d\n",
    "from sklearn.metrics import auc\n",
    "import matplotlib.pyplot as plt\n",
    "import numpy as np\n",
    "import matplotlib.pyplot as plt\n",
    "import scipy.fftpack\n",
    "\n",
    "class BVPsignal:\n",
    "    \"\"\"\n",
    "        Manage (multi-channel, row-wise) BVP signals\n",
    "    \"\"\"\n",
    "     # freq. resolution for STFTs\n",
    "    step = 1       # step in seconds\n",
    "    nFFT = 2048\n",
    "\n",
    "    def __init__(self, data, fs, startTime=0, minHz=0.6, maxHz=4.0, verb=False):\n",
    "        if len(data.shape) == 1:\n",
    "            self.data = data.reshape(1,-1) # 2D array raw-wise\n",
    "        else:\n",
    "            self.data = data\n",
    "        self.numChls = self.data.shape[0]  # num  channels\n",
    "        self.fs = fs                       # sample rate\n",
    "        self.startTime = startTime\n",
    "        self.verb = verb\n",
    "        self.minHz = minHz\n",
    "        self.maxHz = maxHz\n",
    "\n",
    "        \n",
    "    def getBPM(self, winsize=5):\n",
    "        self.spectrogram(winsize, use_hps=False)\n",
    "        return self.bpm, self.times\n",
    "    \n",
    "    \n",
    "    def PSD2BPM(self, chooseBest=True, use_hps=False):\n",
    "        \"\"\"\n",
    "            Compute power spectral density using Welch’s method and estimate\n",
    "            BPMs from video frames\n",
    "        \"\"\"\n",
    "\n",
    "        # -- interpolation for less than 256 samples\n",
    "        c,n = self.data.shape\n",
    "        if n < 256:\n",
    "            seglength = n\n",
    "            overlap = int(0.8*n)  # fixed overlapping\n",
    "        else:\n",
    "            seglength = 256\n",
    "            overlap = 128\n",
    "       \n",
    "        # -- periodogram by Welch\n",
    "        F, P = welch(self.data, nperseg=seglength, noverlap=overlap,fs=self.fs,window ='hamming', nfft=self.nFFT,scaling ='density')\n",
    "        # -- freq subband (0.7 Hz - 4.0 Hz)\n",
    "        print(F)\n",
    "        self.band = np.argwhere((F > self.minHz) & (F < self.maxHz)).flatten()\n",
    "        self.band_LF = np.argwhere((F > 0.04) & (F < 0.15)).flatten()\n",
    "        self.band_HF = np.argwhere((F > 0.15) & (F < 0.4)).flatten()\n",
    "        self.Power = P[:,self.band]\n",
    "        self.Power_LF = P[:,self.band_LF]\n",
    "        self.Power_HF = P[:,self.band_HF]\n",
    "        # -- BPM estimate by PSD)\n",
    "        self.Pmax = np.max(self.Power, axis=1)\n",
    "        self.Psum = np.sum(self.Power,axis = 1)\n",
    "        self.Pratio = self.Pmax/self.Psum\n",
    "        self.Pmax = np.max(self.Power, axis=1)\n",
    "        self.RR = np.max(self.Power_HF, axis=1)\n",
    "        self.Pmax_LF = np.max(self.Power_LF, axis=1)\n",
    "        self.Psum_LF = np.sum(self.Power_LF,axis = 1)\n",
    "        self.Pratio_LF = self.Pmax_LF/self.Psum_LF\n",
    "        self.AUC_LF= auc(self.band_LF,self.Power_LF[0])\n",
    "        self.Pmax_HF = np.max(self.Power_HF, axis=1)\n",
    "        self.Psum_HF = np.sum(self.Power_HF,axis = 1)\n",
    "        self.Pratio_HF = self.Pmax_HF/self.Psum_HF\n",
    "        self.AUC_HF= auc(self.band_HF,self.Power_HF[0])\n",
    "        self.LF_HF= self.AUC_LF/self.AUC_HF\n",
    "        self.AUC_Method=auc(self.band,self.Power[0])\n",
    "\n",
    "    \n",
    "\n",
    "    def findPeaks(self, distance=None, height=None):\n",
    "        \n",
    "        # -- take the first channel\n",
    "        x = self.data[0].flatten()\n",
    "            \n",
    "        if distance is None:\n",
    "            distance = self.fs/2\n",
    "        if height is None:\n",
    "            height = np.mean(x)\n",
    "\n",
    "        # -- find peaks with the specified params\n",
    "        self.peaks, _ = find_peaks(x, distance=distance, height=height)\n",
    "        \n",
    "        self.peaksTimes = self.peaks/self.fs\n",
    "        self.bpmPEAKS = 60.0/np.diff(self.peaksTimes)\n",
    "        \n",
    "    def plotBPMPeaks(self, height=None, width=None):\n",
    "        \"\"\"\n",
    "            Plot the the BVP signal and peak marks\n",
    "        \"\"\"\n",
    "\n",
    "        # -- find peaks  \n",
    "        try:\n",
    "            peaks = self.peaks\n",
    "        except AttributeError:\n",
    "            self.findPeaks()\n",
    "            peaks = self.peaks\n",
    "        \n",
    "        #-- signals \n",
    "        y = self.data[0]\n",
    "        n = y.shape[0]\n",
    "        startTime  = self.startTime \n",
    "        stopTime = startTime+n/self.fs\n",
    "        x = np.linspace(startTime, stopTime, num=n, endpoint=False)\n",
    "        \n",
    "        fig = go.Figure()\n",
    "        fig.add_trace(go.Scatter(x=x, y=y, name=\"BVP\"))\n",
    "        fig.add_trace(go.Scatter(x=x[peaks], y=y[peaks], mode='markers', name=\"Peaks\"))\n",
    "\n",
    "        if not height:\n",
    "            height=400\n",
    "        if not width:\n",
    "            width=800\n",
    "\n",
    "        fig.update_layout(height=height, width=width, title=\"BVP signal + peaks\",\n",
    "            font=dict(\n",
    "                family=\"Courier New, monospace\",\n",
    "                size=14,\n",
    "                color=\"#7f7f7f\"))\n",
    "        \n",
    "        fig.show()\n",
    "        \n",
    "    def plot(self, title=\"BVP signal\", height=400, width=800):\n",
    "        \"\"\"\n",
    "            Plot the the BVP signal (multiple channels)\n",
    "        \"\"\"\n",
    "      \n",
    "        #-- signals \n",
    "        y = self.data\n",
    "        c,n = y.shape\n",
    "        startTime  = self.startTime \n",
    "        stopTime = startTime+n/self.fs\n",
    "        x = np.linspace(startTime, stopTime, num=n, endpoint=False)\n",
    "        \n",
    "        fig = go.Figure()\n",
    "        \n",
    "        for i in range(c):\n",
    "            name = \"BVP \" + str(i)\n",
    "            fig.add_trace(go.Scatter(x=x, y=y[i], name=name))\n",
    "\n",
    "        fig.update_layout(height=height, width=width, title=title,\n",
    "            font=dict(\n",
    "                family=\"Courier New, monospace\",\n",
    "                size=14,\n",
    "                color=\"#7f7f7f\"))\n",
    "        fig.show()\n",
    "        \n",
    "    def displayPSD(self, ch):\n",
    "        \"\"\"Show the periodogram(s) of the BVP signal for channel ch\"\"\"\n",
    "        if ch == 'HF':\n",
    "            print(\"I am lf_psd\")\n",
    "            f_LF = self.band_LF\n",
    "            P_LF = self.Power_LF [0]\n",
    "\n",
    "            plt.plot(f_LF, P_LF, marker='.', label='PSD')\n",
    "            # axis labels\n",
    "            plt.xlabel('Frequency')\n",
    "            plt.ylabel('Power')\n",
    "            # show the legend\n",
    "            plt.legend()\n",
    "            # show the plot\n",
    "            plt.show()\n",
    "\n",
    "        if ch == 'HF':\n",
    "            print(\"I am hf_psd\")\n",
    "            f_HF = self.band_HF\n",
    "            P_HF = self.Power_HF[0]\n",
    "\n",
    "            plt.plot(f_HF, P_HF, marker='.', label='PSD')\n",
    "            # axis labels\n",
    "            plt.xlabel('Frequency')\n",
    "            plt.ylabel('Power')\n",
    "            # show the legend\n",
    "            plt.legend()\n",
    "            # show the plot\n",
    "            plt.show()\n",
    "        if ch == 'BPV':\n",
    "            f = self.band\n",
    "            P = self.Power[0]\n",
    "            plt.plot(f, P, marker='.', label='PSD')\n",
    "            # axis labels\n",
    "            plt.xlabel('Frequency')\n",
    "            plt.ylabel('Power')\n",
    "            # show the legend\n",
    "            plt.legend()\n",
    "            # show the plot\n",
    "            plt.show()\n",
    "  \n",
    "  "
   ]
  },
  {
   "cell_type": "code",
   "execution_count": 7,
   "metadata": {},
   "outputs": [],
   "source": [
    "import configparser\n",
    "import ast\n",
    "import pandas as pd\n",
    "import glob, os\n",
    "from importlib import import_module\n",
    "import numpy as np\n",
    "from scipy.signal import medfilt, detrend\n",
    "import plotly.graph_objects as go\n",
    "from pyVHR.utils import filters, printutils,detrending\n",
    "\n",
    "class TestSuite():\n",
    "    \n",
    "    def __init__(self, configFilename='default'):\n",
    "        if configFilename == 'default':\n",
    "            configFilename = '/Users/rupakkatwal/Downloads/pyVHR-master/pyVHR/analysis/default_test.cfg'\n",
    "        self.parse_cfg(configFilename)\n",
    "    \n",
    "    def start(self, saveResults=True, outFilename=None, verb=0):\n",
    "        \"\"\" Runs the tests as specified in the loaded config file.\n",
    "            verbose degree:\n",
    "               0 - not verbose\n",
    "               1 - show the main steps\n",
    "               2 - display graphic \n",
    "               3 - display spectra  \n",
    "               4 - display errors\n",
    "               (use also combinations, e.g. verb=21, verb=321)\n",
    "        \"\"\"     \n",
    "            \n",
    "        # -- catch data (object)\n",
    "        res = TestResult()\n",
    "        res.newDataSerie()\n",
    "\n",
    "        # -- video object\n",
    "        os.chdir(self.videodict['videodataDIR'])\n",
    "        for file in glob.glob(\"*.avi\"):\n",
    "            videoFilename = os.path.join(self.videodict['videodataDIR'], file)\n",
    "            video = Video(videoFilename, verb)\n",
    "            video.getCroppedFaces(detector=self.videodict['detector'],\n",
    "                                  extractor=self.videodict['extractor'])\n",
    "            # -- catch data\n",
    "            \n",
    "            etime = float(self.videodict['endTime'])\n",
    "            if etime < 0:\n",
    "                self.videodict['endTime'] = str(video.duration-etime)\n",
    "            startTime = float(self.videodict['startTime'])\n",
    "            timeStep  = float(self.defaultdict['timeStep'])\n",
    "            winSize = float(self.defaultdict['winSize'])\n",
    "            zeroMeanSTDnorm = int(self.defaultdict['zeroMeanSTDnorm'])\n",
    "            detrFilter = int(self.defaultdict['detrending'])\n",
    "            if 'detrending' in self.defaultdict:\n",
    "                detrending = int(self.defaultdict['detrending'])\n",
    "            else:\n",
    "                detrLambda = 10\n",
    "            if 'detrMethod' in self.videodict:\n",
    "                detrMethod = self.videodict['detrMethod']\n",
    "            else:\n",
    "                detrMethod = 'tarvainen'\n",
    "            if self.videodict['endTime']=='INF':\n",
    "                endTime = np.Inf\n",
    "            else:\n",
    "                endTime= float(self.videodict['endTime'])\n",
    "            if 'BPfilter' in self.defaultdict:\n",
    "                BPfilter = int(self.defaultdict['BPfilter'])\n",
    "            else:\n",
    "                BPfilter = 1\n",
    "            if 'minHz' in self.defaultdict:\n",
    "                minHz = float(self.defaultdict['minHz'])\n",
    "            else:\n",
    "                minHz = 0.6\n",
    "            if 'maxHz' in self.defaultdict:\n",
    "                maxHz = float(self.defaultdict['maxHz'])\n",
    "            else:\n",
    "                maxHz = 4.0\n",
    "            fs = video.frameRate\n",
    "            if endTime > video.duration:\n",
    "                endTime = video.duration\n",
    "            assert startTime <= endTime, \"Time interval error!\"\n",
    "            assert timeStep > 0, \"Time step must be positive!\"\n",
    "            assert winSize  < (endTime - startTime),\"Winsize too big!\"\n",
    "\n",
    "            if video.doEVM is True:\n",
    "                video.applyEVM()\n",
    "            else:\n",
    "                video.processedFaces = video.faces\n",
    "            timeSteps = np.arange(startTime,endTime,timeStep)\n",
    "            startFrame = int(video.frameRate)\n",
    "            endFrame = int(video.numFrames)\n",
    "            frameSubset = np.arange(startFrame, endFrame)\n",
    "            ROImask = self.videodict['ROImask']\n",
    "            if ROImask == 'rect':\n",
    "                rects = ast.literal_eval(self.videodict['rectCoords'])\n",
    "                self.rectCoords = []\n",
    "                for x in rects:\n",
    "                    rect = []\n",
    "                    for y in x:\n",
    "                        rect.append(int(y))\n",
    "                    self.rectCoords.append(rect)\n",
    "                video.setMask(ROImask, rectCoords=self.rectCoords)\n",
    "            elif ROImask == 'skin_adapt':\n",
    "                video.setMask(ROImask, skinThresh_adapt=float(self.videodict['skinAdapt']))\n",
    "            elif ROImask == 'skin_fix':\n",
    "                threshs = ast.literal_eval(self.videodict['skinFix'])\n",
    "                threshSkinFix = [int(x) for x in threshs]\n",
    "                video.setMask(ROImask, skinThresh_fix=threshSkinFix)\n",
    "            else:\n",
    "                raise ValueError(ROImask + \" : Unimplemented Signal Extractor!\")\n",
    "            video.extractSignal(frameSubset)\n",
    "            video.showVideo()\n",
    "            RGBsig = video.getMeanRGB()\n",
    "            # -- print RGB raw data\n",
    "            if '2' in str(verb):\n",
    "                printutils.multiplot(y=RGBsig, name=['ch B', 'ch R','ch G'], title='RGB raw data')\n",
    "            RGBsig = running_mean(RGBsig,3)\n",
    "            if detrending:\n",
    "                RGBsig = detrend(RGBsig)\n",
    "            RGBsig = running_mean(RGBsig,3)\n",
    "            RGBsig = BP_filter(RGBsig, minHz, maxHz, fs)\n",
    "            print(RGBsig)\n",
    "            Numerator = np.std(abs(RGBsig[0]))/np.mean(abs(RGBsig[0]))\n",
    "            Denomenator = np.std(abs(RGBsig[1]))/np.mean(abs(RGBsig[1]))\n",
    "            R = (Numerator/Denomenator)\n",
    "            SPO2 = 115.31 -(R * 20.85)\n",
    "            RedCh = BVPsignal(RGBsig[0], video.frameRate, startTime, minHz, maxHz, verb)\n",
    "            RedCh.PSD2BPM(chooseBest=True )\n",
    "            BlueCh = BVPsignal(RGBsig[1], video.frameRate, startTime, minHz, maxHz, verb)\n",
    "            BlueCh.PSD2BPM(chooseBest= True)\n",
    "            GreenCh = BVPsignal(RGBsig[2], video.frameRate, startTime, minHz, maxHz, verb)\n",
    "            GreenCh.PSD2BPM(chooseBest=True)\n",
    "            for methodName in  self.methods:\n",
    "                res.newDataSerie()\n",
    "                moduleName = methodName.lower()\n",
    "                className = methodName.upper()\n",
    "                self.methodsdict[methodName]['video'] = video\n",
    "                self.methodsdict[methodName]['verb'] = verb\n",
    "                # merge video parameters dict in method parameters dict before calling method\n",
    "                self.__merge(self.methodsdict[methodName], self.videodict)\n",
    "                methodModule = import_module('.methods.' + moduleName, package='pyVHR')\n",
    "                classOBJ = getattr(methodModule, className)\n",
    "                obj = classOBJ(**self.methodsdict[methodName])\n",
    "                rPPG_BVP_signal = obj.apply(RGBsig)\n",
    "                print(rPPG_BVP_signal)\n",
    "                systolic_peak = max(np.diff(rPPG_BVP_signal,2))\n",
    "                diastolic_peak = min(np.diff(rPPG_BVP_signal,2))\n",
    "                BVP_max  = np.max(rPPG_BVP_signal)\n",
    "                BVP_ratio = np.max(rPPG_BVP_signal) / np.sum(rPPG_BVP_signal)\n",
    "                BVP_STD = np.std(rPPG_BVP_signal)\n",
    "                BVP_mean = np.mean(rPPG_BVP_signal)\n",
    "                rPPG_BVP = BVPsignal(rPPG_BVP_signal, video.frameRate, startTime, minHz, maxHz, verb)\n",
    "                rPPG_BVP.plotBPMPeaks()\n",
    "                rPPG_BVP.PSD2BPM(chooseBest = True)\n",
    "                rPPG_BVP.displayPSD(ch = \"BPV\")\n",
    "                rPPG_BVP.displayPSD(ch = \"LF\")\n",
    "                rPPG_BVP.displayPSD(ch = \"HF\")\n",
    "                if videoFilename.endswith('.avi'):\n",
    "                    videoFilename = videoFilename[:-4]\n",
    "                res.addData('videoFilename', videoFilename)\n",
    "                res.addData('Red_P', RedCh.Pmax[0])\n",
    "                res.addData('Red_R', RedCh.Pratio[0])\n",
    "                res.addData('Blue_P', BlueCh.Pmax[0])\n",
    "                res.addData('Blue_R', BlueCh.Pratio[0])\n",
    "                res.addData('Green_P', GreenCh.Pmax[0])\n",
    "                res.addData('Green_R', GreenCh.Pratio[0])\n",
    "                res.addData('SPO2', SPO2)\n",
    "                res.addData('BVP_ratio',BVP_ratio)\n",
    "                res.addData('BVP_max', BVP_max)\n",
    "                res.addData('BVP_mean', BVP_mean)\n",
    "                res.addData('BVP_STD', BVP_STD)\n",
    "                res.addData('Method', methodName)\n",
    "                res.addData('LF_P', rPPG_BVP.Pmax_LF[0])\n",
    "                res.addData('LF_R', rPPG_BVP.Pratio_LF[0])\n",
    "                res.addData('AUC_LF', rPPG_BVP.AUC_LF)\n",
    "                res.addData('HF_P', rPPG_BVP.Pmax_HF[0])\n",
    "                res.addData('HF_R', rPPG_BVP.Pratio_HF[0])\n",
    "                res.addData('AUC_HF', rPPG_BVP.AUC_HF)\n",
    "                res.addData('LF_HF', rPPG_BVP.LF_HF)\n",
    "                res.addData('Method_P', rPPG_BVP.Pmax[0])\n",
    "                res.addData('Method_R', rPPG_BVP.Pratio[0])\n",
    "                res.addData('Method_AUC', rPPG_BVP.AUC_Method)\n",
    "                res.addDataSerie()\n",
    "        if saveResults:\n",
    "            res.saveResults()\n",
    "\n",
    "        return res\n",
    "    \n",
    "    def parse_cfg(self, configFilename):\n",
    "        \"\"\" parses the given config file for experiments. \"\"\"\n",
    "        self.parser = configparser.ConfigParser(inline_comment_prefixes=('#', ';'))\n",
    "        self.parser.optionxform = str\n",
    "        if not self.parser.read(configFilename):\n",
    "            raise FileNotFoundError(configFilename)\n",
    "            \n",
    "        # checks \n",
    "        assert not self.parser.has_section('DEFAULT'),\"ERROR... DEFAULT section is mandatory!\"\n",
    "            \n",
    "        # load default paramas\n",
    "        self.defaultdict = dict(self.parser['DEFAULT'].items())\n",
    "        # load video params\n",
    "        self.videodict = dict(self.parser['VIDEO'].items())\n",
    "        # video idx list extraction\n",
    "        if self.videodict['videoIdx'] == 'all':\n",
    "            self.videoIdx = 'all'\n",
    "        else:\n",
    "            svid = ast.literal_eval(self.videodict['videoIdx'])\n",
    "            self.videoIdx = [int(v) for v in svid]\n",
    "        self.methodsdict = {}\n",
    "        self.methods = ast.literal_eval(self.defaultdict['methods'])\n",
    "        for x in self.methods:\n",
    "            self.methodsdict[x] = dict(self.parser[x].items())\n",
    "        \n",
    "    def __merge(self, dict1, dict2):\n",
    "        for key in dict2:\n",
    "            if key not in dict1:\n",
    "                dict1[key]= dict2[key]\n",
    "\n",
    "class TestResult():\n",
    "    \"\"\" Manage the results of a test for a given video dataset and multiple VHR methods\"\"\"\n",
    "    \n",
    "    def __init__(self, filename=None):\n",
    "\n",
    "        if filename == None:\n",
    "            self.dataFrame = pd.DataFrame()\n",
    "        else:\n",
    "            self.dataFrame = pd.read_hdf(filename)\n",
    "        self.dict = None\n",
    "        \n",
    "    def addDataSerie(self):\n",
    "        # -- store serie\n",
    "        if self.dict != None:\n",
    "            self.dataFrame = self.dataFrame.append(self.dict, ignore_index=True)\n",
    "            \n",
    "    def newDataSerie(self):\n",
    "        # -- new dict\n",
    "        D = {}      # video filename\n",
    "        D['videoFilename'] = ''\n",
    "        D['systolic_peak'] = ''\n",
    "        D['diastolic_peak'] = ''\n",
    "        D['Red_P'] = ''\n",
    "        D['Red_R'] = ''\n",
    "        D['Blue_P'] = ''\n",
    "        D['Blue_R'] = ''\n",
    "        D['Green_P'] = ''\n",
    "        D['Green_R'] = ''\n",
    "        D['SPO2'] = ''\n",
    "        D['BVP_ratio'] = ''\n",
    "        D['BVP_max'] = ''\n",
    "        D['BVP_mean'] = ''\n",
    "        D['BVP_STD'] = ''\n",
    "        D['Method'] = ''\n",
    "        D['Sum_LF'] = ''\n",
    "        D['AUC_LF'] = ''\n",
    "        D['Sum_HF'] = ''\n",
    "        D['AUC_HF'] = ''\n",
    "        D['LF_HF'] = ''\n",
    "        D['Method_P'] = ''\n",
    "        D['Method_R'] = ''\n",
    "        D['Method_AUC'] = ''\n",
    "        self.dict = D\n",
    "\n",
    "    def addData(self, key, value):\n",
    "        self.dict[key] = value\n",
    "                         \n",
    "    def saveResults(self, outFilename=None):\n",
    "        if outFilename == None:\n",
    "            outFilename = \"testResults.h5\"\n",
    "        else:\n",
    "            self.outFilename = outFilename\n",
    "        \n",
    "        # -- save data\n",
    "        self.dataFrame.to_hdf(outFilename, key='df', mode='w')\n",
    "        self.dataFrame.to_hdf(outFilename, key='df', mode='w')\n",
    "                                                                                                                                                                                                                                                                                                                                                                                                                                                                                                                                                                                                                                                                                                                                                                                                                                                                                                                                                                                                                                                                                                                                                                                                                                                                                                                                                                                                                                                                                                                                                                                                                                                                                                                                                                                                                                                                                                                                                                                                                                                                                                                                                                                                                                                                                                                                                                                                                                                                                                                                                                                                                                                                                                                                                                                                                                                                                                                                                                                                                                                                                                                                                                                                                                                                                                                                                                                                                                                                                                                                                                                                                                                                                                                                                                                                                                                                                                                                                                                                                                                                                                                                                                                                                                                                                                                                                                                                                                                                                                                                                                                                                                                                                                                                                                                                                                                                                                                                                                                                                                                                                                                                                                                                                                                                                                                                                                                                                                                                                                                                                                                                                                                                                                                                                                                                                                                                                                                                                                                                                                                                                                                                                                                                                                                                                                                                                                                                                                                                                                                                                                                                                                                                                                                                                                                                                                                                                                                                                                                                                                                                                                                                                                                                                                                                                                                                                                                                                                                                                                                                                                                                                                                                                                                                                                                                                                                                                                                                                                                                                                                                                                                                                                                                                                                                                                                                                                                                                                                                                                                                                                                                                                                                                                                                                                                                                                                                                                                                                                                                                                                                                                                                                                                                                                                                                                                                                                                                                                                                                                                                                                                                                                                                                                                                                                                                                                                                                                                                                                                                                                                                                                                                                                                                                                                                                                                                                                                                                                                                                                                                                                                                                                                                                                                                                                                                                                                                                                                                                                                                                                                                                                                                                                                                                                                                                                                                                                                                                                                           \n",
    "\n",
    "                                                                                                                                                                                                                                                                                                                                                                                                                                                                                                                                                                                                                                                                                                                                                                                                                                                                                                                                                                                                                                                                                                                                                                                                                                                                                                                                                                                                                                                                                                                                                                                                                                                                                                                                                                                                                                                                                                                                                                                                                                                                                                                                                                                                                                                                                                                                                                                                                                                                                                                                                                                                                                                                                                                                                                                                                                                                                                                                                                                                                                                                                                                                                                                                                                                                                                                                                                                                                                                                                                                                                                                                                                                                                                                                                                                                                                                                                                                                                                                                                                                                                                                                                                                                                                                                                                                                                                                                                                                                                                                                                                                                                                                                                                                                                                                                                                                                                                                                                                                                                                                                                                                                                                                                                                                                                                                                                                                                                                                                                                                                                                                                                                                                                                                                                                                                                                                                                                                                                                                                                                                                                                                                                                                                                                                                                                                                                                                                                                                                                                                                                                                                                                                                                                                                                                                                                                                                                                                                                                                                                                                                                                                                                                                                                                                                                                                                                                                                                                                                                                                                                                                                                                                                                                                                                                                                                                                                                                                                                                                                                                                                                                                                                                                                                                                                                                                                                                                                                                                                                                                                                                                                                                                                                                                                                                                                                                                                                                                                                                                                                                                                                                                                                                                                                                                                                                                                                                                                                                                                                                                                                                                                                                                                                                                                                                                                                                                                                                                                                                                                                                                                                                                                                                                                                                                                                                                                                                                                                                                                                                                                                                                                                                                                                                                                                                                                                                                                                                                                                                                                                                                                                                                                                                                                                                                                                                                                                                                                                                                           "
   ]
  },
  {
   "cell_type": "code",
   "execution_count": 8,
   "metadata": {},
   "outputs": [
    {
     "name": "stdout",
     "output_type": "stream",
     "text": [
      "\n",
      "\n",
      "mtcnn_kalman\n",
      "\n",
      "\n",
      "WARNING:tensorflow:5 out of the last 5 calls to <function Model.make_predict_function.<locals>.predict_function at 0x7fb354e6bdc0> triggered tf.function retracing. Tracing is expensive and the excessive number of tracings is likely due to passing python objects instead of tensors. Also, tf.function has experimental_relax_shapes=True option that relaxes argument shapes that can avoid unnecessary retracing. Please refer to https://www.tensorflow.org/tutorials/customization/performance#python_or_tensor_args and https://www.tensorflow.org/api_docs/python/tf/function for more details.\n",
      "WARNING:tensorflow:6 out of the last 6 calls to <function Model.make_predict_function.<locals>.predict_function at 0x7fb354e6bdc0> triggered tf.function retracing. Tracing is expensive and the excessive number of tracings is likely due to passing python objects instead of tensors. Also, tf.function has experimental_relax_shapes=True option that relaxes argument shapes that can avoid unnecessary retracing. Please refer to https://www.tensorflow.org/tutorials/customization/performance#python_or_tensor_args and https://www.tensorflow.org/api_docs/python/tf/function for more details.\n",
      "WARNING:tensorflow:7 out of the last 7 calls to <function Model.make_predict_function.<locals>.predict_function at 0x7fb354e6bdc0> triggered tf.function retracing. Tracing is expensive and the excessive number of tracings is likely due to passing python objects instead of tensors. Also, tf.function has experimental_relax_shapes=True option that relaxes argument shapes that can avoid unnecessary retracing. Please refer to https://www.tensorflow.org/tutorials/customization/performance#python_or_tensor_args and https://www.tensorflow.org/api_docs/python/tf/function for more details.\n",
      "WARNING:tensorflow:8 out of the last 8 calls to <function Model.make_predict_function.<locals>.predict_function at 0x7fb354e6bdc0> triggered tf.function retracing. Tracing is expensive and the excessive number of tracings is likely due to passing python objects instead of tensors. Also, tf.function has experimental_relax_shapes=True option that relaxes argument shapes that can avoid unnecessary retracing. Please refer to https://www.tensorflow.org/tutorials/customization/performance#python_or_tensor_args and https://www.tensorflow.org/api_docs/python/tf/function for more details.\n",
      "WARNING:tensorflow:9 out of the last 9 calls to <function Model.make_predict_function.<locals>.predict_function at 0x7fb354e6bdc0> triggered tf.function retracing. Tracing is expensive and the excessive number of tracings is likely due to passing python objects instead of tensors. Also, tf.function has experimental_relax_shapes=True option that relaxes argument shapes that can avoid unnecessary retracing. Please refer to https://www.tensorflow.org/tutorials/customization/performance#python_or_tensor_args and https://www.tensorflow.org/api_docs/python/tf/function for more details.\n",
      "WARNING:tensorflow:10 out of the last 10 calls to <function Model.make_predict_function.<locals>.predict_function at 0x7fb354e6bdc0> triggered tf.function retracing. Tracing is expensive and the excessive number of tracings is likely due to passing python objects instead of tensors. Also, tf.function has experimental_relax_shapes=True option that relaxes argument shapes that can avoid unnecessary retracing. Please refer to https://www.tensorflow.org/tutorials/customization/performance#python_or_tensor_args and https://www.tensorflow.org/api_docs/python/tf/function for more details.\n",
      "/Users/rupakkatwal/Downloads/rppgdataset/test/01_01_01_C.avi\n",
      "\n",
      "   * Video filename: /Users/rupakkatwal/Downloads/rppgdataset/test/01_01_01_C.avi\n",
      "         Total frames: 300\n",
      "             Duration: 10.0 (sec)\n",
      "           Frame rate: 30 (fps)\n",
      "                Codec: mpeg4\n",
      "           Num frames: 300\n",
      "               Height: 480\n",
      "                Width: 480\n",
      "             Detector: mtcnn_kalman\n",
      "            Extractor: sklearn\n",
      "      Extracted faces: not found! Detecting...\n"
     ]
    },
    {
     "data": {
      "application/vnd.jupyter.widget-view+json": {
       "model_id": "0282b005cba1452190af8b5d2b584f59",
       "version_major": 2,
       "version_minor": 0
      },
      "text/plain": [
       "interactive(children=(IntSlider(value=1, description='frame', max=300, min=1), Output()), _dom_classes=('widge…"
      ]
     },
     "metadata": {},
     "output_type": "display_data"
    },
    {
     "name": "stdout",
     "output_type": "stream",
     "text": [
      "[[ 2.58101661e-04  2.79413570e-03  1.43079106e-02  4.60097951e-02\n",
      "   1.03206112e-01  1.66862426e-01  1.85520434e-01  9.72479238e-02\n",
      "  -1.22988620e-01 -4.24954617e-01 -6.90404877e-01 -7.89916968e-01\n",
      "  -6.54755677e-01 -3.17881497e-01  1.00778054e-01  4.55612524e-01\n",
      "   6.48365871e-01  6.72609571e-01  6.05766166e-01  5.54929766e-01\n",
      "   5.89237569e-01  6.98078331e-01  7.98119010e-01  7.83977639e-01\n",
      "   5.92269579e-01  2.39759245e-01 -1.88104327e-01 -5.87872462e-01\n",
      "  -8.90169075e-01 -1.07903294e+00 -1.17465635e+00 -1.20218133e+00\n",
      "  -1.17076974e+00 -1.07122960e+00 -8.86678311e-01 -6.07555656e-01\n",
      "  -2.45147317e-01  1.60082294e-01  5.39852348e-01  8.14438687e-01\n",
      "   9.24192100e-01  8.63504926e-01  6.93812898e-01  5.18310426e-01\n",
      "   4.26121479e-01  4.39779687e-01  5.03388231e-01  5.22582511e-01\n",
      "   4.29070282e-01  2.22858642e-01 -3.64934341e-02 -2.75470281e-01\n",
      "  -4.46932084e-01 -5.36770519e-01 -5.46479756e-01 -4.80655056e-01\n",
      "  -3.51881318e-01 -1.89090120e-01 -3.18555636e-02  8.81127917e-02\n",
      "   1.61777164e-01  2.01735836e-01  2.28227371e-01  2.53227300e-01\n",
      "   2.70086404e-01  2.50761074e-01  1.53946642e-01 -5.11301202e-02\n",
      "  -3.50481090e-01 -6.63152502e-01 -8.57778446e-01 -8.13357213e-01\n",
      "  -4.94607446e-01  9.10787579e-03  5.17289252e-01  8.51551580e-01\n",
      "   9.29099284e-01  7.94609800e-01  5.75170896e-01  3.95765167e-01\n",
      "   3.10310275e-01  2.84195930e-01  2.31991353e-01  8.46517904e-02\n",
      "  -1.56709300e-01 -4.16557910e-01 -5.93362048e-01 -6.26309484e-01\n",
      "  -5.33081989e-01 -3.93715205e-01 -2.95757209e-01 -2.82817724e-01\n",
      "  -3.41225296e-01 -4.25885667e-01 -4.97008526e-01 -5.37676548e-01\n",
      "  -5.44469952e-01 -5.07495533e-01 -4.03622979e-01 -2.13477235e-01\n",
      "   5.07607529e-02  3.33985061e-01  5.60543485e-01  6.78934960e-01\n",
      "   6.94998150e-01  6.65825973e-01  6.57648738e-01  6.99783220e-01\n",
      "   7.68268537e-01  8.07219899e-01  7.67062195e-01  6.30564843e-01\n",
      "   4.13202402e-01  1.46864530e-01 -1.34404389e-01 -3.96888225e-01\n",
      "  -6.04134109e-01 -7.20910911e-01 -7.28094895e-01 -6.38471637e-01\n",
      "  -4.97988230e-01 -3.65575898e-01 -2.81369354e-01 -2.44851791e-01\n",
      "  -2.20272530e-01 -1.67423682e-01 -7.52847179e-02  2.85794366e-02\n",
      "   1.01751116e-01  1.24226047e-01  1.16924038e-01  1.26521643e-01\n",
      "   1.91664730e-01  3.16999030e-01  4.67768430e-01  5.81956686e-01\n",
      "   5.94890026e-01  4.71143672e-01  2.28511306e-01 -6.69943706e-02\n",
      "  -3.38255688e-01 -5.39551921e-01 -6.69865508e-01 -7.48579408e-01\n",
      "  -7.79204350e-01 -7.35869733e-01 -5.85851383e-01 -3.30448276e-01\n",
      "  -3.04398060e-02  2.08889160e-01  2.91404904e-01  1.92495915e-01\n",
      "  -1.18846672e-02 -1.76559931e-01 -1.68132412e-01  5.22082638e-02\n",
      "   3.99069769e-01  7.08999432e-01  8.34663617e-01  7.27208417e-01\n",
      "   4.55463915e-01  1.53933957e-01 -6.04606401e-02 -1.44788360e-01\n",
      "  -1.26702397e-01 -5.58720367e-02  4.34902532e-02  1.80478748e-01\n",
      "   3.64972970e-01  5.69689718e-01  7.25644350e-01  7.58426585e-01\n",
      "   6.34678019e-01  3.80411425e-01  6.14651226e-02 -2.51082698e-01\n",
      "  -5.03985962e-01 -6.67651593e-01 -7.34969306e-01 -7.20035064e-01\n",
      "  -6.53496239e-01 -5.70634189e-01 -4.97146335e-01 -4.43821996e-01\n",
      "  -4.15545985e-01 -4.24650071e-01 -4.88565435e-01 -6.03501560e-01\n",
      "  -7.15533360e-01 -7.27045346e-01 -5.52687232e-01 -1.89889892e-01\n",
      "   2.55851100e-01  6.20827721e-01  7.77494032e-01  7.05800112e-01\n",
      "   4.92428004e-01  2.66100432e-01  1.23878055e-01  1.00027919e-01\n",
      "   1.82457080e-01  3.40606607e-01  5.33127313e-01  7.00756411e-01\n",
      "   7.71982412e-01  6.92775276e-01  4.61167542e-01  1.38733462e-01\n",
      "  -1.70864049e-01 -3.63919480e-01 -3.78754701e-01 -2.21186021e-01\n",
      "   3.58487066e-02  2.79769879e-01  4.04812534e-01  3.59921924e-01\n",
      "   1.75475364e-01 -4.87634092e-02 -1.93861109e-01 -1.85484357e-01\n",
      "  -3.45186757e-02  1.69479298e-01  3.06166763e-01  2.83784364e-01\n",
      "   7.85175571e-02 -2.60773106e-01 -6.37861453e-01 -9.49122867e-01\n",
      "  -1.12056286e+00 -1.12831023e+00 -9.98024358e-01 -7.88199563e-01\n",
      "  -5.65735827e-01 -3.79872826e-01 -2.40501846e-01 -1.11604181e-01\n",
      "   6.87678125e-02  3.43627790e-01  6.91320858e-01  1.01468365e+00\n",
      "   1.18408729e+00  1.11370892e+00  8.19317144e-01  4.13881015e-01\n",
      "   4.21125712e-02 -1.99524747e-01 -3.02287398e-01 -3.23074537e-01\n",
      "  -3.26267480e-01 -3.35884493e-01 -3.27523956e-01 -2.56015145e-01\n",
      "  -9.39588176e-02  1.42601637e-01  3.93101642e-01  5.75283079e-01\n",
      "   6.21216264e-01  5.10133577e-01  2.83085038e-01  3.12261041e-02\n",
      "  -1.41384758e-01 -1.67799108e-01 -5.60915003e-02  1.11210440e-01\n",
      "   2.23607390e-01  2.10549471e-01]\n",
      " [ 2.08326015e-04  2.23144147e-03  1.13267886e-02  3.62216165e-02\n",
      "   8.11846113e-02  1.32037305e-01  1.49348230e-01  8.34403293e-02\n",
      "  -9.03369473e-02 -3.39410191e-01 -5.73373696e-01 -6.83369657e-01\n",
      "  -6.00276093e-01 -3.35552504e-01  2.14684332e-02  3.49473979e-01\n",
      "   5.57812372e-01  6.29308057e-01  6.18756026e-01  6.09666779e-01\n",
      "   6.56556173e-01  7.47291322e-01  8.07345785e-01  7.44031649e-01\n",
      "   5.05478908e-01  1.18064933e-01 -3.22862716e-01 -7.03356075e-01\n",
      "  -9.48217977e-01 -1.04915543e+00 -1.05197609e+00 -1.01822721e+00\n",
      "  -9.86594555e-01 -9.52901943e-01 -8.75612893e-01 -7.02606255e-01\n",
      "  -4.06282403e-01 -9.85790639e-03  4.09884557e-01  7.48981711e-01\n",
      "   9.23020380e-01  9.10976908e-01  7.68910786e-01  6.00739518e-01\n",
      "   5.00334417e-01  4.99675366e-01  5.55598396e-01  5.83079432e-01\n",
      "   5.12032228e-01  3.28843203e-01  7.67848415e-02 -1.77291946e-01\n",
      "  -3.78050020e-01 -4.94009814e-01 -5.11563409e-01 -4.31549672e-01\n",
      "  -2.76570659e-01 -9.53288912e-02  5.17401244e-02  1.21400085e-01\n",
      "   1.09426267e-01  4.79033761e-02 -1.88833046e-02 -6.15366393e-02\n",
      "  -7.98751433e-02 -1.01248484e-01 -1.66079861e-01 -3.03084257e-01\n",
      "  -5.00670992e-01 -6.92094435e-01 -7.73919715e-01 -6.58288601e-01\n",
      "  -3.30971939e-01  1.25463740e-01  5.66005342e-01  8.58118758e-01\n",
      "   9.48862991e-01  8.80380455e-01  7.48283571e-01  6.36076338e-01\n",
      "   5.68099240e-01  5.05380632e-01  3.82626299e-01  1.62677147e-01\n",
      "  -1.26596089e-01 -3.99848960e-01 -5.64226028e-01 -5.78153186e-01\n",
      "  -4.77020706e-01 -3.47667994e-01 -2.72008790e-01 -2.81983341e-01\n",
      "  -3.55127936e-01 -4.45157941e-01 -5.16952449e-01 -5.59367922e-01\n",
      "  -5.73046804e-01 -5.51002973e-01 -4.72968720e-01 -3.20838171e-01\n",
      "  -1.02763437e-01  1.37255965e-01  3.38282749e-01  4.59585445e-01\n",
      "   5.07018468e-01  5.25384484e-01  5.61223070e-01  6.25821405e-01\n",
      "   6.87700505e-01  6.98131345e-01  6.26560300e-01  4.78389208e-01\n",
      "   2.86158912e-01  8.75589628e-02 -8.96179276e-02 -2.27440447e-01\n",
      "  -3.11296618e-01 -3.30194971e-01 -2.86806857e-01 -2.06549033e-01\n",
      "  -1.32277679e-01 -1.02239100e-01 -1.24550855e-01 -1.68345269e-01\n",
      "  -1.82482643e-01 -1.32291333e-01 -2.81866431e-02  7.76928058e-02\n",
      "   1.27338614e-01  9.82349142e-02  1.73991813e-02 -6.05250355e-02\n",
      "  -8.91132678e-02 -5.23200320e-02  3.44223263e-02  1.34144306e-01\n",
      "   2.01887931e-01  2.02269508e-01  1.26819872e-01 -1.82355940e-03\n",
      "  -1.45523843e-01 -2.74182396e-01 -3.76911778e-01 -4.53068304e-01\n",
      "  -4.95007880e-01 -4.81441958e-01 -3.90011986e-01 -2.20901242e-01\n",
      "  -1.32278310e-02  1.61329089e-01  2.30133920e-01  1.62374542e-01\n",
      "  -2.65783218e-03 -1.65267619e-01 -2.15957881e-01 -1.00343247e-01\n",
      "   1.44014528e-01  4.06354153e-01  5.66920844e-01  5.64622633e-01\n",
      "   4.24664373e-01  2.32190947e-01  7.54561323e-02 -2.79039353e-04\n",
      "  -3.23073451e-04  4.64361147e-02  1.20306359e-01  2.20694656e-01\n",
      "   3.47929438e-01  4.78589946e-01  5.62394041e-01  5.48205986e-01\n",
      "   4.18538389e-01  2.03739640e-01 -3.43441276e-02 -2.34669189e-01\n",
      "  -3.62837179e-01 -4.18740261e-01 -4.28181018e-01 -4.26595080e-01\n",
      "  -4.42337542e-01 -4.85079720e-01 -5.43426308e-01 -5.93624883e-01\n",
      "  -6.16417458e-01 -6.11739427e-01 -5.97173845e-01 -5.85634581e-01\n",
      "  -5.59232263e-01 -4.68480703e-01 -2.68493694e-01  3.29145144e-02\n",
      "   3.58996517e-01  6.00841249e-01  6.83130806e-01  6.09182879e-01\n",
      "   4.52600055e-01  3.06544752e-01  2.32776673e-01  2.44672710e-01\n",
      "   3.22777031e-01  4.35579923e-01  5.45998123e-01  6.10141127e-01\n",
      "   5.85832410e-01  4.53489166e-01  2.33168922e-01 -1.80545713e-02\n",
      "  -2.27868802e-01 -3.36707256e-01 -3.19854655e-01 -1.97782482e-01\n",
      "  -3.16354883e-02  9.78580112e-02  1.24074278e-01  2.76217526e-02\n",
      "  -1.49234889e-01 -3.18857658e-01 -3.90623048e-01 -3.17697261e-01\n",
      "  -1.21863683e-01  1.17239112e-01  3.00819032e-01  3.55101025e-01\n",
      "   2.58875615e-01  4.46678605e-02 -2.21781881e-01 -4.70227963e-01\n",
      "  -6.48694767e-01 -7.32707947e-01 -7.22835503e-01 -6.37733181e-01\n",
      "  -5.06867827e-01 -3.60727869e-01 -2.16641648e-01 -6.73711278e-02\n",
      "   1.13576785e-01  3.44350631e-01  6.00912986e-01  8.07828680e-01\n",
      "   8.72436521e-01  7.45854232e-01  4.65872660e-01  1.44454548e-01\n",
      "  -9.61072637e-02 -1.93448607e-01 -1.71702769e-01 -1.09232829e-01\n",
      "  -7.70137704e-02 -9.40870107e-02 -1.25912946e-01 -1.17078273e-01\n",
      "  -3.11572187e-02  1.25293917e-01  3.03305323e-01  4.32931433e-01\n",
      "   4.54508591e-01  3.46345464e-01  1.37954189e-01 -9.71212757e-02\n",
      "  -2.69171693e-01 -3.12879083e-01 -2.22027468e-01 -5.58608997e-02\n",
      "   9.28848769e-02  1.52324262e-01]\n",
      " [ 8.49326475e-05  1.00273396e-03  5.53278107e-03  1.90171169e-02\n",
      "   4.54430331e-02  7.86140009e-02  9.58389564e-02  6.44815207e-02\n",
      "  -3.73424276e-02 -1.98592445e-01 -3.69159588e-01 -4.77898901e-01\n",
      "  -4.67063087e-01 -3.23845816e-01 -8.95885797e-02  1.60650500e-01\n",
      "   3.57374425e-01  4.71593938e-01  5.24380283e-01  5.65228265e-01\n",
      "   6.32049862e-01  7.17085702e-01  7.61566188e-01  6.86951060e-01\n",
      "   4.47141580e-01  6.78187009e-02 -3.56900443e-01 -7.11184444e-01\n",
      "  -9.16170540e-01 -9.62480418e-01 -9.01091497e-01 -8.05632722e-01\n",
      "  -7.31230823e-01 -6.89722674e-01 -6.49560255e-01 -5.57991174e-01\n",
      "  -3.74529659e-01 -9.98809666e-02  2.14869965e-01  4.87216320e-01\n",
      "   6.45370259e-01  6.71812488e-01  6.18189038e-01  5.74811907e-01\n",
      "   6.09591579e-01  7.17373856e-01  8.17531469e-01  8.04603597e-01\n",
      "   6.17981094e-01  2.82174307e-01 -1.08290578e-01 -4.42953012e-01\n",
      "  -6.45887227e-01 -6.92432046e-01 -5.97473656e-01 -4.00587347e-01\n",
      "  -1.60536887e-01  5.16813234e-02  1.74303682e-01  1.83588727e-01\n",
      "   1.07047793e-01  6.86172607e-03 -5.70701416e-02 -6.02604204e-02\n",
      "  -2.45164524e-02 -4.45315291e-03 -5.84664230e-02 -2.15350698e-01\n",
      "  -4.49042379e-01 -6.76086767e-01 -7.85082519e-01 -6.90335744e-01\n",
      "  -3.82932845e-01  5.31523845e-02  4.76128734e-01  7.56864006e-01\n",
      "   8.42444265e-01  7.72804399e-01  6.42881409e-01  5.38757880e-01\n",
      "   4.88529397e-01  4.54695457e-01  3.69439802e-01  1.89923483e-01\n",
      "  -6.25599107e-02 -3.07622774e-01 -4.53663487e-01 -4.55753285e-01\n",
      "  -3.42406403e-01 -1.93479360e-01 -8.89151427e-02 -6.85309223e-02\n",
      "  -1.28642751e-01 -2.46396205e-01 -4.01354483e-01 -5.74512469e-01\n",
      "  -7.32478066e-01 -8.20616214e-01 -7.80683819e-01 -5.85653701e-01\n",
      "  -2.66429579e-01  9.33573298e-02  3.96492319e-01  5.80869001e-01\n",
      "   6.44504309e-01  6.31496660e-01  5.93580963e-01  5.58224193e-01\n",
      "   5.23776712e-01  4.76927725e-01  4.11446920e-01  3.32331822e-01\n",
      "   2.47235413e-01  1.58843618e-01  6.76563225e-02 -1.92860480e-02\n",
      "  -8.64039511e-02 -1.20394399e-01 -1.25396146e-01 -1.27073960e-01\n",
      "  -1.58255969e-01 -2.34430809e-01 -3.37091731e-01 -4.18883293e-01\n",
      "  -4.29815411e-01 -3.48886223e-01 -2.00377482e-01 -4.24705409e-02\n",
      "   6.63021713e-02  1.00676806e-01  7.90195431e-02  4.56314012e-02\n",
      "   4.23080218e-02  8.97390482e-02  1.83607828e-01  2.98069988e-01\n",
      "   3.93268647e-01  4.29838896e-01  3.86965164e-01  2.70725091e-01\n",
      "   1.04653234e-01 -8.79055281e-02 -2.91607126e-01 -4.90470643e-01\n",
      "  -6.54365915e-01 -7.38133667e-01 -7.00203531e-01 -5.31024479e-01\n",
      "  -2.72149603e-01 -1.00797311e-02  1.57850713e-01  1.72043338e-01\n",
      "   4.81326352e-02 -1.22320568e-01 -2.16493478e-01 -1.49765056e-01\n",
      "   7.18692062e-02  3.52042417e-01  5.59328328e-01  6.03090487e-01\n",
      "   4.81743663e-01  2.74746601e-01  8.80568415e-02 -7.12975395e-03\n",
      "  -2.05701279e-03  6.72612127e-02  1.60184877e-01  2.58028414e-01\n",
      "   3.58946231e-01  4.54545980e-01  5.17294347e-01  5.13782600e-01\n",
      "   4.31125208e-01  2.90687111e-01  1.35970754e-01  4.51484537e-03\n",
      "  -9.46172803e-02 -1.82505415e-01 -2.91500757e-01 -4.39021201e-01\n",
      "  -6.10754089e-01 -7.63644516e-01 -8.47518682e-01 -8.34292005e-01\n",
      "  -7.39177559e-01 -6.19344155e-01 -5.43738335e-01 -5.45633545e-01\n",
      "  -5.89090500e-01 -5.81480316e-01 -4.34372294e-01 -1.33116890e-01\n",
      "   2.39628574e-01  5.49654925e-01  6.95000023e-01  6.66002136e-01\n",
      "   5.39821581e-01  4.20486401e-01  3.75003154e-01  4.09601762e-01\n",
      "   4.89012670e-01  5.68235830e-01  6.09459057e-01  5.83828733e-01\n",
      "   4.74130063e-01  2.85371913e-01  5.31532466e-02 -1.62782608e-01\n",
      "  -2.99647733e-01 -3.16164660e-01 -2.09909639e-01 -2.23627273e-02\n",
      "   1.71208293e-01  2.88322749e-01  2.75799939e-01  1.38809846e-01\n",
      "  -5.68251532e-02 -2.15035974e-01 -2.58066732e-01 -1.66158993e-01\n",
      "   1.38126799e-02  1.94015832e-01  2.88805818e-01  2.50667157e-01\n",
      "   8.29136859e-02 -1.70408935e-01 -4.46002505e-01 -6.82567381e-01\n",
      "  -8.35639996e-01 -8.84623080e-01 -8.33347134e-01 -7.06151551e-01\n",
      "  -5.39653025e-01 -3.69017641e-01 -2.11433214e-01 -5.69623339e-02\n",
      "   1.21526259e-01  3.39325419e-01  5.70578518e-01  7.45774756e-01\n",
      "   7.87375693e-01  6.63192069e-01  4.17066599e-01  1.49723330e-01\n",
      "  -3.89752898e-02 -1.04676963e-01 -7.26252574e-02 -7.59298054e-03\n",
      "   3.18852769e-02  2.28520045e-02 -2.02327557e-02 -6.15634546e-02\n",
      "  -6.44175033e-02 -8.71761106e-03  9.78196504e-02  2.19107805e-01\n",
      "   3.03489214e-01  3.07207411e-01  2.19331385e-01  7.46569627e-02\n",
      "  -5.73075201e-02 -1.07744129e-01 -5.04779510e-02  7.84160037e-02\n",
      "   2.01625089e-01  2.50919067e-01]]\n",
      "[ 2.91409896e-05  2.74334906e-04  1.21804230e-03  3.41533544e-03\n",
      "  6.79542233e-03  1.00155357e-02  1.04270697e-02  4.86367776e-03\n",
      " -8.58086660e-03 -2.81758317e-02 -4.73781837e-02 -5.69208938e-02\n",
      " -4.98782513e-02 -2.63802787e-02  5.78976843e-03  3.55468610e-02\n",
      "  5.48332671e-02  6.24813463e-02  6.31652576e-02  6.27368429e-02\n",
      "  6.36398300e-02  6.34457492e-02  5.69130107e-02  3.97415763e-02\n",
      "  1.17131309e-02 -2.22631057e-02 -5.35876309e-02 -7.34402623e-02\n",
      " -7.71045105e-02 -6.71926487e-02 -5.34991672e-02 -4.83732680e-02\n",
      " -5.93150231e-02 -8.31709571e-02 -1.06234807e-01 -1.11082991e-01\n",
      " -8.64176233e-02 -3.39377051e-02  3.19691830e-02  9.12595536e-02\n",
      "  1.27278092e-01  1.32507836e-01  1.09141415e-01  6.66116829e-02\n",
      "  1.89094995e-02 -1.81063926e-02 -3.10603018e-02 -1.48702047e-02\n",
      "  2.35524912e-02  6.74988117e-02  9.82839700e-02  1.04042032e-01\n",
      "  8.43563056e-02  4.89297642e-02  1.21581266e-02 -1.32686575e-02\n",
      " -2.13611948e-02 -1.49537081e-02 -4.02266588e-03 -5.26893824e-04\n",
      " -1.23236493e-02 -3.98035464e-02 -7.68767164e-02 -1.14488072e-01\n",
      " -1.43743797e-01 -1.57731522e-01 -1.52859625e-01 -1.29807551e-01\n",
      " -9.31060484e-02 -4.93664155e-02 -5.64124326e-03  3.13858872e-02\n",
      "  5.65610229e-02  6.85874550e-02  7.18196539e-02  7.48367568e-02\n",
      "  8.55290067e-02  1.05749281e-01  1.29349974e-01  1.45093542e-01\n",
      "  1.42650605e-01  1.18109851e-01  7.60688285e-02  2.76002103e-02\n",
      " -1.45322294e-02 -4.11605764e-02 -5.03558190e-02 -4.78241337e-02\n",
      " -4.35990725e-02 -4.64587727e-02 -5.90721516e-02 -7.65922134e-02\n",
      " -8.92691784e-02 -8.74804121e-02 -6.68015940e-02 -3.10301232e-02\n",
      "  8.34696276e-03  3.66208690e-02  4.26079470e-02  2.41344685e-02\n",
      " -1.10843676e-02 -4.96497550e-02 -7.87204036e-02 -9.02296379e-02\n",
      " -8.15727133e-02 -5.46487072e-02 -1.56183839e-02  2.49547082e-02\n",
      "  5.40679817e-02  6.13916861e-02  4.49538737e-02  1.31272266e-02\n",
      " -1.91192757e-02 -3.75565386e-02 -3.49703616e-02 -1.28303824e-02\n",
      "  2.16001003e-02  5.96355742e-02  9.38858047e-02  1.18702635e-01\n",
      "  1.30090937e-01  1.26743826e-01  1.11713247e-01  9.23881940e-02\n",
      "  7.70814465e-02  6.95904622e-02  6.59174329e-02  5.65773564e-02\n",
      "  3.33372930e-02 -5.00017657e-03 -5.23917710e-02 -1.00261892e-01\n",
      " -1.42192898e-01 -1.74731946e-01 -1.95102679e-01 -1.99584225e-01\n",
      " -1.84960180e-01 -1.51804594e-01 -1.06169010e-01 -5.73536126e-02\n",
      " -1.29132175e-02  2.51271855e-02  5.94792299e-02  9.27241823e-02\n",
      "  1.22556609e-01  1.41390328e-01  1.41023817e-01  1.18975189e-01\n",
      "  8.16569381e-02  4.17226141e-02  1.11206272e-02 -5.39349860e-03\n",
      " -1.18328950e-02 -1.68868356e-02 -2.74623923e-02 -4.42614412e-02\n",
      " -6.15735109e-02 -7.05595049e-02 -6.40122618e-02 -4.05899006e-02\n",
      " -6.54057707e-03  2.66332499e-02  4.79965758e-02  5.29868307e-02\n",
      "  4.50816088e-02  3.22733768e-02  2.13453044e-02  1.41777543e-02\n",
      "  8.05757859e-03 -1.24337084e-03 -1.63277389e-02 -3.67488741e-02\n",
      " -5.91327568e-02 -7.77941931e-02 -8.56623525e-02 -7.63182571e-02\n",
      " -4.72394063e-02 -2.58397278e-03  4.66805178e-02  8.59563565e-02\n",
      "  1.02077126e-01  8.80709558e-02  4.61725736e-02 -1.15251876e-02\n",
      " -6.53958507e-02 -9.42096119e-02 -8.37704475e-02 -3.46192505e-02\n",
      "  3.61056795e-02  1.01182903e-01  1.35748067e-01  1.29134258e-01\n",
      "  8.94048710e-02  3.79218904e-02 -2.79088527e-03 -2.05022148e-02\n",
      " -1.72113803e-02 -4.02750574e-03  8.12355461e-03  1.46418870e-02\n",
      "  1.66181708e-02  1.61212920e-02  1.30254827e-02  6.14214185e-03\n",
      " -3.62844427e-03 -1.23490210e-02 -1.58273018e-02 -1.35969083e-02\n",
      " -1.03151288e-02 -1.32046142e-02 -2.75120299e-02 -5.32402960e-02\n",
      " -8.51129134e-02 -1.15394050e-01 -1.37548522e-01 -1.48602905e-01\n",
      " -1.49196862e-01 -1.41729761e-01 -1.27890506e-01 -1.07077699e-01\n",
      " -7.68317804e-02 -3.52040265e-02  1.66209372e-02  7.35841808e-02\n",
      "  1.28328099e-01  1.73315686e-01  2.01782107e-01  2.08081158e-01\n",
      "  1.89243071e-01  1.47840255e-01  9.36574573e-02  4.14951038e-02\n",
      "  5.19869778e-03 -8.75610467e-03 -3.89684620e-03  9.18787959e-03\n",
      "  1.91200785e-02  1.88712939e-02  6.94043157e-03 -1.45052401e-02\n",
      " -4.14877294e-02 -6.83223446e-02 -8.71409467e-02 -8.94173918e-02\n",
      " -7.03704686e-02 -3.36231696e-02  8.35138420e-03  4.00790893e-02\n",
      "  5.20383908e-02  4.61906897e-02  3.37442410e-02  2.68440465e-02\n",
      "  3.04000192e-02  3.95903736e-02  4.39212794e-02  3.42855913e-02\n",
      "  8.27297505e-03 -2.90245696e-02 -6.82999923e-02 -1.00696924e-01\n",
      " -1.20865056e-01 -1.27159692e-01 -1.20106901e-01 -1.01262831e-01\n",
      " -7.35169251e-02 -4.19941694e-02]\n"
     ]
    },
    {
     "data": {
      "application/vnd.plotly.v1+json": {
       "config": {
        "plotlyServerURL": "https://plot.ly"
       },
       "data": [
        {
         "name": "BVP",
         "type": "scatter",
         "x": [
          1,
          1.0333333333333334,
          1.0666666666666667,
          1.1,
          1.1333333333333333,
          1.1666666666666667,
          1.2,
          1.2333333333333334,
          1.2666666666666666,
          1.3,
          1.3333333333333333,
          1.3666666666666667,
          1.4,
          1.4333333333333333,
          1.4666666666666668,
          1.5,
          1.5333333333333332,
          1.5666666666666667,
          1.6,
          1.6333333333333333,
          1.6666666666666665,
          1.7,
          1.7333333333333334,
          1.7666666666666666,
          1.8,
          1.8333333333333335,
          1.8666666666666667,
          1.9,
          1.9333333333333333,
          1.9666666666666668,
          2,
          2.033333333333333,
          2.0666666666666664,
          2.1,
          2.1333333333333333,
          2.166666666666667,
          2.2,
          2.2333333333333334,
          2.2666666666666666,
          2.3,
          2.333333333333333,
          2.3666666666666667,
          2.4,
          2.4333333333333336,
          2.466666666666667,
          2.5,
          2.533333333333333,
          2.5666666666666664,
          2.6,
          2.6333333333333333,
          2.666666666666667,
          2.7,
          2.7333333333333334,
          2.7666666666666666,
          2.8,
          2.833333333333333,
          2.8666666666666667,
          2.9,
          2.9333333333333336,
          2.966666666666667,
          3,
          3.033333333333333,
          3.0666666666666664,
          3.1,
          3.1333333333333333,
          3.1666666666666665,
          3.2,
          3.2333333333333334,
          3.2666666666666666,
          3.3,
          3.3333333333333335,
          3.3666666666666667,
          3.4,
          3.433333333333333,
          3.466666666666667,
          3.5,
          3.533333333333333,
          3.5666666666666664,
          3.6,
          3.6333333333333333,
          3.6666666666666665,
          3.7,
          3.7333333333333334,
          3.7666666666666666,
          3.8,
          3.8333333333333335,
          3.8666666666666667,
          3.9,
          3.933333333333333,
          3.966666666666667,
          4,
          4.033333333333333,
          4.066666666666666,
          4.1,
          4.133333333333333,
          4.166666666666666,
          4.2,
          4.233333333333333,
          4.266666666666667,
          4.3,
          4.333333333333334,
          4.366666666666667,
          4.4,
          4.433333333333334,
          4.466666666666667,
          4.5,
          4.533333333333333,
          4.566666666666666,
          4.6,
          4.633333333333333,
          4.666666666666666,
          4.699999999999999,
          4.733333333333333,
          4.766666666666667,
          4.8,
          4.833333333333334,
          4.866666666666667,
          4.9,
          4.933333333333334,
          4.966666666666667,
          5,
          5.033333333333333,
          5.066666666666666,
          5.1,
          5.133333333333333,
          5.166666666666667,
          5.2,
          5.233333333333333,
          5.266666666666667,
          5.3,
          5.333333333333333,
          5.366666666666666,
          5.4,
          5.433333333333334,
          5.466666666666667,
          5.5,
          5.533333333333333,
          5.566666666666666,
          5.6,
          5.633333333333333,
          5.666666666666667,
          5.7,
          5.733333333333333,
          5.766666666666667,
          5.8,
          5.833333333333333,
          5.866666666666666,
          5.9,
          5.933333333333334,
          5.966666666666667,
          6,
          6.033333333333333,
          6.066666666666666,
          6.1,
          6.133333333333333,
          6.166666666666667,
          6.2,
          6.233333333333333,
          6.266666666666667,
          6.3,
          6.333333333333333,
          6.366666666666666,
          6.4,
          6.433333333333334,
          6.466666666666667,
          6.5,
          6.533333333333333,
          6.566666666666666,
          6.6,
          6.633333333333333,
          6.666666666666667,
          6.7,
          6.733333333333333,
          6.766666666666667,
          6.8,
          6.833333333333333,
          6.866666666666666,
          6.9,
          6.933333333333334,
          6.966666666666667,
          7,
          7.033333333333333,
          7.066666666666666,
          7.1,
          7.133333333333333,
          7.166666666666667,
          7.2,
          7.233333333333333,
          7.266666666666667,
          7.3,
          7.333333333333333,
          7.366666666666666,
          7.4,
          7.433333333333334,
          7.466666666666667,
          7.5,
          7.533333333333333,
          7.566666666666666,
          7.6,
          7.633333333333333,
          7.666666666666667,
          7.7,
          7.733333333333333,
          7.766666666666667,
          7.8,
          7.833333333333333,
          7.866666666666666,
          7.8999999999999995,
          7.933333333333334,
          7.966666666666667,
          8,
          8.033333333333333,
          8.066666666666666,
          8.1,
          8.133333333333333,
          8.166666666666668,
          8.2,
          8.233333333333334,
          8.266666666666666,
          8.3,
          8.333333333333332,
          8.366666666666667,
          8.399999999999999,
          8.433333333333334,
          8.466666666666667,
          8.5,
          8.533333333333333,
          8.566666666666666,
          8.6,
          8.633333333333333,
          8.666666666666668,
          8.7,
          8.733333333333334,
          8.766666666666666,
          8.8,
          8.833333333333332,
          8.866666666666667,
          8.899999999999999,
          8.933333333333334,
          8.966666666666667,
          9,
          9.033333333333333,
          9.066666666666666,
          9.1,
          9.133333333333333,
          9.166666666666666,
          9.2,
          9.233333333333333,
          9.266666666666666,
          9.3,
          9.333333333333334,
          9.366666666666667,
          9.4,
          9.433333333333334,
          9.466666666666667,
          9.5,
          9.533333333333333,
          9.566666666666666,
          9.6,
          9.633333333333333,
          9.666666666666666,
          9.7,
          9.733333333333333,
          9.766666666666666,
          9.8,
          9.833333333333334
         ],
         "y": [
          2.9140989623750225e-05,
          0.000274334906227547,
          0.00121804230420306,
          0.0034153354425022343,
          0.006795422333640295,
          0.010015535725893438,
          0.010427069685213512,
          0.004863677764347852,
          -0.008580866597520569,
          -0.028175831706252374,
          -0.04737818369030164,
          -0.05692089375205584,
          -0.04987825134428354,
          -0.02638027869192158,
          0.005789768430335352,
          0.03554686098702777,
          0.05483326706172818,
          0.062481346260282074,
          0.06316525756942086,
          0.0627368429251324,
          0.0636398299926243,
          0.0634457492082197,
          0.056913010678461565,
          0.03974157628570473,
          0.011713130900310504,
          -0.02226310565050119,
          -0.053587630930940995,
          -0.07344026229509797,
          -0.07710451049159861,
          -0.06719264867373304,
          -0.05349916715087929,
          -0.048373268007827826,
          -0.059315023064567034,
          -0.08317095705249346,
          -0.10623480683707048,
          -0.11108299111633567,
          -0.08641762333053955,
          -0.03393770506073908,
          0.03196918303962693,
          0.09125955357908157,
          0.12727809170090826,
          0.13250783612670491,
          0.1091414152323208,
          0.06661168285360114,
          0.018909499491737453,
          -0.01810639259550351,
          -0.031060301830429335,
          -0.014870204729085615,
          0.02355249115683673,
          0.06749881170171924,
          0.09828397003328139,
          0.10404203199464672,
          0.08435630556027156,
          0.04892976417271005,
          0.012158126636486117,
          -0.01326865753662668,
          -0.021361194756138194,
          -0.014953708112854422,
          -0.0040226658791611344,
          -0.0005268938241242382,
          -0.012323649252201608,
          -0.03980354639428721,
          -0.0768767163993884,
          -0.11448807188132523,
          -0.1437437970081845,
          -0.15773152186180484,
          -0.1528596252929943,
          -0.12980755050369738,
          -0.09310604842235243,
          -0.04936641554973754,
          -0.005641243258787163,
          0.03138588723713948,
          0.05656102290448788,
          0.06858745500666144,
          0.07181965389600051,
          0.0748367567830715,
          0.08552900670415223,
          0.10574928089489909,
          0.12934997444774976,
          0.14509354187513052,
          0.14265060530670157,
          0.11810985072470481,
          0.07606882845369238,
          0.027600210277631654,
          -0.01453222936122543,
          -0.04116057643563564,
          -0.05035581900004768,
          -0.047824133721195226,
          -0.04359907246872303,
          -0.04645877271254067,
          -0.05907215159223924,
          -0.07659221342531383,
          -0.08926917839657536,
          -0.0874804120561273,
          -0.06680159399136401,
          -0.031030123232245126,
          0.008346962756917889,
          0.036620868966419154,
          0.042607947043465225,
          0.024134468533013896,
          -0.011084367570243989,
          -0.049649755026244614,
          -0.07872040358610137,
          -0.09022963790367108,
          -0.08157271331644851,
          -0.05464870723612822,
          -0.015618383852766744,
          0.024954708247267785,
          0.054067981662709944,
          0.061391686110620916,
          0.044953873689791125,
          0.013127226595461687,
          -0.019119275741210015,
          -0.037556538566561506,
          -0.034970361567103016,
          -0.012830382404645181,
          0.02160010028213021,
          0.0596355742415995,
          0.09388580467667178,
          0.11870263542401348,
          0.1300909367887098,
          0.12674382598398926,
          0.11171324667475974,
          0.09238819395141369,
          0.07708144647736805,
          0.06959046218272653,
          0.06591743292609853,
          0.05657735635023315,
          0.033337292993236706,
          -0.00500017657012598,
          -0.052391770983282696,
          -0.10026189167679339,
          -0.14219289848070638,
          -0.17473194623188712,
          -0.19510267946190485,
          -0.19958422467021544,
          -0.18496017982605645,
          -0.1518045936731534,
          -0.10616900979316124,
          -0.05735361258681826,
          -0.0129132174670805,
          0.02512718553048876,
          0.05947922994156587,
          0.09272418227348439,
          0.12255660874766419,
          0.14139032795716933,
          0.14102381686547427,
          0.11897518925814612,
          0.0816569381059673,
          0.04172261407934684,
          0.011120627178009058,
          -0.005393498604172172,
          -0.01183289504511823,
          -0.01688683561419414,
          -0.027462392343205244,
          -0.04426144116518571,
          -0.061573510867741786,
          -0.0705595048636414,
          -0.06401226182477777,
          -0.04058990055946467,
          -0.006540577071627645,
          0.026633249914915,
          0.04799657575965007,
          0.05298683066521086,
          0.04508160876634512,
          0.032273376814059174,
          0.02134530441498755,
          0.014177754323382414,
          0.008057578588136216,
          -0.0012433708353576075,
          -0.01632773889501469,
          -0.03674887411928362,
          -0.05913275679161931,
          -0.07779419309247688,
          -0.08566235250119653,
          -0.07631825712932859,
          -0.04723940629047922,
          -0.002583972780046606,
          0.046680517753544204,
          0.0859563564984358,
          0.10207712586403972,
          0.08807095582752301,
          0.04617257361057314,
          -0.01152518759810709,
          -0.06539585070596989,
          -0.09420961194501629,
          -0.08377044745401883,
          -0.03461925047476964,
          0.03610567947251565,
          0.10118290295848827,
          0.13574806668964595,
          0.12913425848774746,
          0.08940487097120203,
          0.0379218904086171,
          -0.0027908852690951935,
          -0.020502214785281813,
          -0.017211380299067172,
          -0.004027505743965671,
          0.008123554612981145,
          0.014641887049906436,
          0.016618170773421682,
          0.01612129195388634,
          0.013025482669072738,
          0.006142141847494034,
          -0.0036284442741958984,
          -0.012349021013762103,
          -0.01582730179805542,
          -0.01359690829226007,
          -0.010315128772021016,
          -0.013204614167847297,
          -0.02751202985913405,
          -0.05324029603537228,
          -0.0851129133949732,
          -0.11539405034678815,
          -0.13754852161240685,
          -0.14860290476325005,
          -0.14919686234906848,
          -0.14172976108016766,
          -0.1278905061995928,
          -0.1070776985488396,
          -0.07683178040885685,
          -0.0352040265078823,
          0.01662093720855848,
          0.07358418077092853,
          0.12832809910981663,
          0.1733156857043317,
          0.20178210679790623,
          0.20808115837204622,
          0.18924307136491197,
          0.14784025507877596,
          0.09365745728752105,
          0.04149510377117311,
          0.005198697777831228,
          -0.008756104672527906,
          -0.0038968462029852096,
          0.009187879588498775,
          0.01912007847661037,
          0.01887129390550673,
          0.0069404315680554746,
          -0.014505240080366164,
          -0.041487729364317945,
          -0.06832234462118225,
          -0.0871409466777795,
          -0.08941739184520003,
          -0.07037046864041542,
          -0.033623169575133394,
          0.00835138420277839,
          0.04007908930730758,
          0.05203839075714204,
          0.046190689657419896,
          0.03374424102734497,
          0.02684404648477875,
          0.030400019225768588,
          0.03959037356406193,
          0.043921279427369155,
          0.03428559132749524,
          0.008272975048609634,
          -0.029024569616568095,
          -0.06829999225051331,
          -0.10069692363887489,
          -0.1208650561338952,
          -0.127159692418712,
          -0.12010690081227243,
          -0.10126283107767617,
          -0.0735169250787164,
          -0.04199416936914019
         ]
        },
        {
         "mode": "markers",
         "name": "Peaks",
         "type": "scatter",
         "x": [
          1.6666666666666665,
          2.3666666666666667,
          2.966666666666667,
          3.6333333333333333,
          4.266666666666667,
          5,
          5.833333333333333,
          6.433333333333334,
          7.333333333333333,
          8.566666666666666,
          9.266666666666666
         ],
         "y": [
          0.0636398299926243,
          0.13250783612670491,
          -0.0005268938241242382,
          0.14509354187513052,
          0.042607947043465225,
          0.1300909367887098,
          0.14139032795716933,
          0.05298683066521086,
          0.13574806668964595,
          0.20808115837204622,
          0.05203839075714204
         ]
        }
       ],
       "layout": {
        "font": {
         "color": "#7f7f7f",
         "family": "Courier New, monospace",
         "size": 14
        },
        "height": 400,
        "template": {
         "data": {
          "bar": [
           {
            "error_x": {
             "color": "#2a3f5f"
            },
            "error_y": {
             "color": "#2a3f5f"
            },
            "marker": {
             "line": {
              "color": "#E5ECF6",
              "width": 0.5
             }
            },
            "type": "bar"
           }
          ],
          "barpolar": [
           {
            "marker": {
             "line": {
              "color": "#E5ECF6",
              "width": 0.5
             }
            },
            "type": "barpolar"
           }
          ],
          "carpet": [
           {
            "aaxis": {
             "endlinecolor": "#2a3f5f",
             "gridcolor": "white",
             "linecolor": "white",
             "minorgridcolor": "white",
             "startlinecolor": "#2a3f5f"
            },
            "baxis": {
             "endlinecolor": "#2a3f5f",
             "gridcolor": "white",
             "linecolor": "white",
             "minorgridcolor": "white",
             "startlinecolor": "#2a3f5f"
            },
            "type": "carpet"
           }
          ],
          "choropleth": [
           {
            "colorbar": {
             "outlinewidth": 0,
             "ticks": ""
            },
            "type": "choropleth"
           }
          ],
          "contour": [
           {
            "colorbar": {
             "outlinewidth": 0,
             "ticks": ""
            },
            "colorscale": [
             [
              0,
              "#0d0887"
             ],
             [
              0.1111111111111111,
              "#46039f"
             ],
             [
              0.2222222222222222,
              "#7201a8"
             ],
             [
              0.3333333333333333,
              "#9c179e"
             ],
             [
              0.4444444444444444,
              "#bd3786"
             ],
             [
              0.5555555555555556,
              "#d8576b"
             ],
             [
              0.6666666666666666,
              "#ed7953"
             ],
             [
              0.7777777777777778,
              "#fb9f3a"
             ],
             [
              0.8888888888888888,
              "#fdca26"
             ],
             [
              1,
              "#f0f921"
             ]
            ],
            "type": "contour"
           }
          ],
          "contourcarpet": [
           {
            "colorbar": {
             "outlinewidth": 0,
             "ticks": ""
            },
            "type": "contourcarpet"
           }
          ],
          "heatmap": [
           {
            "colorbar": {
             "outlinewidth": 0,
             "ticks": ""
            },
            "colorscale": [
             [
              0,
              "#0d0887"
             ],
             [
              0.1111111111111111,
              "#46039f"
             ],
             [
              0.2222222222222222,
              "#7201a8"
             ],
             [
              0.3333333333333333,
              "#9c179e"
             ],
             [
              0.4444444444444444,
              "#bd3786"
             ],
             [
              0.5555555555555556,
              "#d8576b"
             ],
             [
              0.6666666666666666,
              "#ed7953"
             ],
             [
              0.7777777777777778,
              "#fb9f3a"
             ],
             [
              0.8888888888888888,
              "#fdca26"
             ],
             [
              1,
              "#f0f921"
             ]
            ],
            "type": "heatmap"
           }
          ],
          "heatmapgl": [
           {
            "colorbar": {
             "outlinewidth": 0,
             "ticks": ""
            },
            "colorscale": [
             [
              0,
              "#0d0887"
             ],
             [
              0.1111111111111111,
              "#46039f"
             ],
             [
              0.2222222222222222,
              "#7201a8"
             ],
             [
              0.3333333333333333,
              "#9c179e"
             ],
             [
              0.4444444444444444,
              "#bd3786"
             ],
             [
              0.5555555555555556,
              "#d8576b"
             ],
             [
              0.6666666666666666,
              "#ed7953"
             ],
             [
              0.7777777777777778,
              "#fb9f3a"
             ],
             [
              0.8888888888888888,
              "#fdca26"
             ],
             [
              1,
              "#f0f921"
             ]
            ],
            "type": "heatmapgl"
           }
          ],
          "histogram": [
           {
            "marker": {
             "colorbar": {
              "outlinewidth": 0,
              "ticks": ""
             }
            },
            "type": "histogram"
           }
          ],
          "histogram2d": [
           {
            "colorbar": {
             "outlinewidth": 0,
             "ticks": ""
            },
            "colorscale": [
             [
              0,
              "#0d0887"
             ],
             [
              0.1111111111111111,
              "#46039f"
             ],
             [
              0.2222222222222222,
              "#7201a8"
             ],
             [
              0.3333333333333333,
              "#9c179e"
             ],
             [
              0.4444444444444444,
              "#bd3786"
             ],
             [
              0.5555555555555556,
              "#d8576b"
             ],
             [
              0.6666666666666666,
              "#ed7953"
             ],
             [
              0.7777777777777778,
              "#fb9f3a"
             ],
             [
              0.8888888888888888,
              "#fdca26"
             ],
             [
              1,
              "#f0f921"
             ]
            ],
            "type": "histogram2d"
           }
          ],
          "histogram2dcontour": [
           {
            "colorbar": {
             "outlinewidth": 0,
             "ticks": ""
            },
            "colorscale": [
             [
              0,
              "#0d0887"
             ],
             [
              0.1111111111111111,
              "#46039f"
             ],
             [
              0.2222222222222222,
              "#7201a8"
             ],
             [
              0.3333333333333333,
              "#9c179e"
             ],
             [
              0.4444444444444444,
              "#bd3786"
             ],
             [
              0.5555555555555556,
              "#d8576b"
             ],
             [
              0.6666666666666666,
              "#ed7953"
             ],
             [
              0.7777777777777778,
              "#fb9f3a"
             ],
             [
              0.8888888888888888,
              "#fdca26"
             ],
             [
              1,
              "#f0f921"
             ]
            ],
            "type": "histogram2dcontour"
           }
          ],
          "mesh3d": [
           {
            "colorbar": {
             "outlinewidth": 0,
             "ticks": ""
            },
            "type": "mesh3d"
           }
          ],
          "parcoords": [
           {
            "line": {
             "colorbar": {
              "outlinewidth": 0,
              "ticks": ""
             }
            },
            "type": "parcoords"
           }
          ],
          "pie": [
           {
            "automargin": true,
            "type": "pie"
           }
          ],
          "scatter": [
           {
            "marker": {
             "colorbar": {
              "outlinewidth": 0,
              "ticks": ""
             }
            },
            "type": "scatter"
           }
          ],
          "scatter3d": [
           {
            "line": {
             "colorbar": {
              "outlinewidth": 0,
              "ticks": ""
             }
            },
            "marker": {
             "colorbar": {
              "outlinewidth": 0,
              "ticks": ""
             }
            },
            "type": "scatter3d"
           }
          ],
          "scattercarpet": [
           {
            "marker": {
             "colorbar": {
              "outlinewidth": 0,
              "ticks": ""
             }
            },
            "type": "scattercarpet"
           }
          ],
          "scattergeo": [
           {
            "marker": {
             "colorbar": {
              "outlinewidth": 0,
              "ticks": ""
             }
            },
            "type": "scattergeo"
           }
          ],
          "scattergl": [
           {
            "marker": {
             "colorbar": {
              "outlinewidth": 0,
              "ticks": ""
             }
            },
            "type": "scattergl"
           }
          ],
          "scattermapbox": [
           {
            "marker": {
             "colorbar": {
              "outlinewidth": 0,
              "ticks": ""
             }
            },
            "type": "scattermapbox"
           }
          ],
          "scatterpolar": [
           {
            "marker": {
             "colorbar": {
              "outlinewidth": 0,
              "ticks": ""
             }
            },
            "type": "scatterpolar"
           }
          ],
          "scatterpolargl": [
           {
            "marker": {
             "colorbar": {
              "outlinewidth": 0,
              "ticks": ""
             }
            },
            "type": "scatterpolargl"
           }
          ],
          "scatterternary": [
           {
            "marker": {
             "colorbar": {
              "outlinewidth": 0,
              "ticks": ""
             }
            },
            "type": "scatterternary"
           }
          ],
          "surface": [
           {
            "colorbar": {
             "outlinewidth": 0,
             "ticks": ""
            },
            "colorscale": [
             [
              0,
              "#0d0887"
             ],
             [
              0.1111111111111111,
              "#46039f"
             ],
             [
              0.2222222222222222,
              "#7201a8"
             ],
             [
              0.3333333333333333,
              "#9c179e"
             ],
             [
              0.4444444444444444,
              "#bd3786"
             ],
             [
              0.5555555555555556,
              "#d8576b"
             ],
             [
              0.6666666666666666,
              "#ed7953"
             ],
             [
              0.7777777777777778,
              "#fb9f3a"
             ],
             [
              0.8888888888888888,
              "#fdca26"
             ],
             [
              1,
              "#f0f921"
             ]
            ],
            "type": "surface"
           }
          ],
          "table": [
           {
            "cells": {
             "fill": {
              "color": "#EBF0F8"
             },
             "line": {
              "color": "white"
             }
            },
            "header": {
             "fill": {
              "color": "#C8D4E3"
             },
             "line": {
              "color": "white"
             }
            },
            "type": "table"
           }
          ]
         },
         "layout": {
          "annotationdefaults": {
           "arrowcolor": "#2a3f5f",
           "arrowhead": 0,
           "arrowwidth": 1
          },
          "coloraxis": {
           "colorbar": {
            "outlinewidth": 0,
            "ticks": ""
           }
          },
          "colorscale": {
           "diverging": [
            [
             0,
             "#8e0152"
            ],
            [
             0.1,
             "#c51b7d"
            ],
            [
             0.2,
             "#de77ae"
            ],
            [
             0.3,
             "#f1b6da"
            ],
            [
             0.4,
             "#fde0ef"
            ],
            [
             0.5,
             "#f7f7f7"
            ],
            [
             0.6,
             "#e6f5d0"
            ],
            [
             0.7,
             "#b8e186"
            ],
            [
             0.8,
             "#7fbc41"
            ],
            [
             0.9,
             "#4d9221"
            ],
            [
             1,
             "#276419"
            ]
           ],
           "sequential": [
            [
             0,
             "#0d0887"
            ],
            [
             0.1111111111111111,
             "#46039f"
            ],
            [
             0.2222222222222222,
             "#7201a8"
            ],
            [
             0.3333333333333333,
             "#9c179e"
            ],
            [
             0.4444444444444444,
             "#bd3786"
            ],
            [
             0.5555555555555556,
             "#d8576b"
            ],
            [
             0.6666666666666666,
             "#ed7953"
            ],
            [
             0.7777777777777778,
             "#fb9f3a"
            ],
            [
             0.8888888888888888,
             "#fdca26"
            ],
            [
             1,
             "#f0f921"
            ]
           ],
           "sequentialminus": [
            [
             0,
             "#0d0887"
            ],
            [
             0.1111111111111111,
             "#46039f"
            ],
            [
             0.2222222222222222,
             "#7201a8"
            ],
            [
             0.3333333333333333,
             "#9c179e"
            ],
            [
             0.4444444444444444,
             "#bd3786"
            ],
            [
             0.5555555555555556,
             "#d8576b"
            ],
            [
             0.6666666666666666,
             "#ed7953"
            ],
            [
             0.7777777777777778,
             "#fb9f3a"
            ],
            [
             0.8888888888888888,
             "#fdca26"
            ],
            [
             1,
             "#f0f921"
            ]
           ]
          },
          "colorway": [
           "#636efa",
           "#EF553B",
           "#00cc96",
           "#ab63fa",
           "#FFA15A",
           "#19d3f3",
           "#FF6692",
           "#B6E880",
           "#FF97FF",
           "#FECB52"
          ],
          "font": {
           "color": "#2a3f5f"
          },
          "geo": {
           "bgcolor": "white",
           "lakecolor": "white",
           "landcolor": "#E5ECF6",
           "showlakes": true,
           "showland": true,
           "subunitcolor": "white"
          },
          "hoverlabel": {
           "align": "left"
          },
          "hovermode": "closest",
          "mapbox": {
           "style": "light"
          },
          "paper_bgcolor": "white",
          "plot_bgcolor": "#E5ECF6",
          "polar": {
           "angularaxis": {
            "gridcolor": "white",
            "linecolor": "white",
            "ticks": ""
           },
           "bgcolor": "#E5ECF6",
           "radialaxis": {
            "gridcolor": "white",
            "linecolor": "white",
            "ticks": ""
           }
          },
          "scene": {
           "xaxis": {
            "backgroundcolor": "#E5ECF6",
            "gridcolor": "white",
            "gridwidth": 2,
            "linecolor": "white",
            "showbackground": true,
            "ticks": "",
            "zerolinecolor": "white"
           },
           "yaxis": {
            "backgroundcolor": "#E5ECF6",
            "gridcolor": "white",
            "gridwidth": 2,
            "linecolor": "white",
            "showbackground": true,
            "ticks": "",
            "zerolinecolor": "white"
           },
           "zaxis": {
            "backgroundcolor": "#E5ECF6",
            "gridcolor": "white",
            "gridwidth": 2,
            "linecolor": "white",
            "showbackground": true,
            "ticks": "",
            "zerolinecolor": "white"
           }
          },
          "shapedefaults": {
           "line": {
            "color": "#2a3f5f"
           }
          },
          "ternary": {
           "aaxis": {
            "gridcolor": "white",
            "linecolor": "white",
            "ticks": ""
           },
           "baxis": {
            "gridcolor": "white",
            "linecolor": "white",
            "ticks": ""
           },
           "bgcolor": "#E5ECF6",
           "caxis": {
            "gridcolor": "white",
            "linecolor": "white",
            "ticks": ""
           }
          },
          "title": {
           "x": 0.05
          },
          "xaxis": {
           "automargin": true,
           "gridcolor": "white",
           "linecolor": "white",
           "ticks": "",
           "title": {
            "standoff": 15
           },
           "zerolinecolor": "white",
           "zerolinewidth": 2
          },
          "yaxis": {
           "automargin": true,
           "gridcolor": "white",
           "linecolor": "white",
           "ticks": "",
           "title": {
            "standoff": 15
           },
           "zerolinecolor": "white",
           "zerolinewidth": 2
          }
         }
        },
        "title": {
         "text": "BVP signal + peaks"
        },
        "width": 800
       }
      },
      "text/html": [
       "<div>\n",
       "        \n",
       "        \n",
       "            <div id=\"5f51d3ca-0773-404a-8b6e-b83634623f82\" class=\"plotly-graph-div\" style=\"height:400px; width:800px;\"></div>\n",
       "            <script type=\"text/javascript\">\n",
       "                require([\"plotly\"], function(Plotly) {\n",
       "                    window.PLOTLYENV=window.PLOTLYENV || {};\n",
       "                    \n",
       "                if (document.getElementById(\"5f51d3ca-0773-404a-8b6e-b83634623f82\")) {\n",
       "                    Plotly.newPlot(\n",
       "                        '5f51d3ca-0773-404a-8b6e-b83634623f82',\n",
       "                        [{\"name\": \"BVP\", \"type\": \"scatter\", \"x\": [1.0, 1.0333333333333334, 1.0666666666666667, 1.1, 1.1333333333333333, 1.1666666666666667, 1.2, 1.2333333333333334, 1.2666666666666666, 1.3, 1.3333333333333333, 1.3666666666666667, 1.4, 1.4333333333333333, 1.4666666666666668, 1.5, 1.5333333333333332, 1.5666666666666667, 1.6, 1.6333333333333333, 1.6666666666666665, 1.7, 1.7333333333333334, 1.7666666666666666, 1.8, 1.8333333333333335, 1.8666666666666667, 1.9, 1.9333333333333333, 1.9666666666666668, 2.0, 2.033333333333333, 2.0666666666666664, 2.1, 2.1333333333333333, 2.166666666666667, 2.2, 2.2333333333333334, 2.2666666666666666, 2.3, 2.333333333333333, 2.3666666666666667, 2.4, 2.4333333333333336, 2.466666666666667, 2.5, 2.533333333333333, 2.5666666666666664, 2.6, 2.6333333333333333, 2.666666666666667, 2.7, 2.7333333333333334, 2.7666666666666666, 2.8, 2.833333333333333, 2.8666666666666667, 2.9, 2.9333333333333336, 2.966666666666667, 3.0, 3.033333333333333, 3.0666666666666664, 3.1, 3.1333333333333333, 3.1666666666666665, 3.2, 3.2333333333333334, 3.2666666666666666, 3.3, 3.3333333333333335, 3.3666666666666667, 3.4, 3.433333333333333, 3.466666666666667, 3.5, 3.533333333333333, 3.5666666666666664, 3.6, 3.6333333333333333, 3.6666666666666665, 3.7, 3.7333333333333334, 3.7666666666666666, 3.8, 3.8333333333333335, 3.8666666666666667, 3.9, 3.933333333333333, 3.966666666666667, 4.0, 4.033333333333333, 4.066666666666666, 4.1, 4.133333333333333, 4.166666666666666, 4.2, 4.233333333333333, 4.266666666666667, 4.3, 4.333333333333334, 4.366666666666667, 4.4, 4.433333333333334, 4.466666666666667, 4.5, 4.533333333333333, 4.566666666666666, 4.6, 4.633333333333333, 4.666666666666666, 4.699999999999999, 4.733333333333333, 4.766666666666667, 4.8, 4.833333333333334, 4.866666666666667, 4.9, 4.933333333333334, 4.966666666666667, 5.0, 5.033333333333333, 5.066666666666666, 5.1, 5.133333333333333, 5.166666666666667, 5.2, 5.233333333333333, 5.266666666666667, 5.3, 5.333333333333333, 5.366666666666666, 5.4, 5.433333333333334, 5.466666666666667, 5.5, 5.533333333333333, 5.566666666666666, 5.6, 5.633333333333333, 5.666666666666667, 5.7, 5.733333333333333, 5.766666666666667, 5.8, 5.833333333333333, 5.866666666666666, 5.9, 5.933333333333334, 5.966666666666667, 6.0, 6.033333333333333, 6.066666666666666, 6.1, 6.133333333333333, 6.166666666666667, 6.2, 6.233333333333333, 6.266666666666667, 6.3, 6.333333333333333, 6.366666666666666, 6.4, 6.433333333333334, 6.466666666666667, 6.5, 6.533333333333333, 6.566666666666666, 6.6, 6.633333333333333, 6.666666666666667, 6.7, 6.733333333333333, 6.766666666666667, 6.8, 6.833333333333333, 6.866666666666666, 6.9, 6.933333333333334, 6.966666666666667, 7.0, 7.033333333333333, 7.066666666666666, 7.1, 7.133333333333333, 7.166666666666667, 7.2, 7.233333333333333, 7.266666666666667, 7.3, 7.333333333333333, 7.366666666666666, 7.4, 7.433333333333334, 7.466666666666667, 7.5, 7.533333333333333, 7.566666666666666, 7.6, 7.633333333333333, 7.666666666666667, 7.7, 7.733333333333333, 7.766666666666667, 7.8, 7.833333333333333, 7.866666666666666, 7.8999999999999995, 7.933333333333334, 7.966666666666667, 8.0, 8.033333333333333, 8.066666666666666, 8.1, 8.133333333333333, 8.166666666666668, 8.2, 8.233333333333334, 8.266666666666666, 8.3, 8.333333333333332, 8.366666666666667, 8.399999999999999, 8.433333333333334, 8.466666666666667, 8.5, 8.533333333333333, 8.566666666666666, 8.6, 8.633333333333333, 8.666666666666668, 8.7, 8.733333333333334, 8.766666666666666, 8.8, 8.833333333333332, 8.866666666666667, 8.899999999999999, 8.933333333333334, 8.966666666666667, 9.0, 9.033333333333333, 9.066666666666666, 9.1, 9.133333333333333, 9.166666666666666, 9.2, 9.233333333333333, 9.266666666666666, 9.3, 9.333333333333334, 9.366666666666667, 9.4, 9.433333333333334, 9.466666666666667, 9.5, 9.533333333333333, 9.566666666666666, 9.6, 9.633333333333333, 9.666666666666666, 9.7, 9.733333333333333, 9.766666666666666, 9.8, 9.833333333333334], \"y\": [2.9140989623750225e-05, 0.000274334906227547, 0.00121804230420306, 0.0034153354425022343, 0.006795422333640295, 0.010015535725893438, 0.010427069685213512, 0.004863677764347852, -0.008580866597520569, -0.028175831706252374, -0.04737818369030164, -0.05692089375205584, -0.04987825134428354, -0.02638027869192158, 0.005789768430335352, 0.03554686098702777, 0.05483326706172818, 0.062481346260282074, 0.06316525756942086, 0.0627368429251324, 0.0636398299926243, 0.0634457492082197, 0.056913010678461565, 0.03974157628570473, 0.011713130900310504, -0.02226310565050119, -0.053587630930940995, -0.07344026229509797, -0.07710451049159861, -0.06719264867373304, -0.05349916715087929, -0.048373268007827826, -0.059315023064567034, -0.08317095705249346, -0.10623480683707048, -0.11108299111633567, -0.08641762333053955, -0.03393770506073908, 0.03196918303962693, 0.09125955357908157, 0.12727809170090826, 0.13250783612670491, 0.1091414152323208, 0.06661168285360114, 0.018909499491737453, -0.01810639259550351, -0.031060301830429335, -0.014870204729085615, 0.02355249115683673, 0.06749881170171924, 0.09828397003328139, 0.10404203199464672, 0.08435630556027156, 0.04892976417271005, 0.012158126636486117, -0.01326865753662668, -0.021361194756138194, -0.014953708112854422, -0.0040226658791611344, -0.0005268938241242382, -0.012323649252201608, -0.03980354639428721, -0.0768767163993884, -0.11448807188132523, -0.1437437970081845, -0.15773152186180484, -0.1528596252929943, -0.12980755050369738, -0.09310604842235243, -0.04936641554973754, -0.005641243258787163, 0.03138588723713948, 0.05656102290448788, 0.06858745500666144, 0.07181965389600051, 0.0748367567830715, 0.08552900670415223, 0.10574928089489909, 0.12934997444774976, 0.14509354187513052, 0.14265060530670157, 0.11810985072470481, 0.07606882845369238, 0.027600210277631654, -0.01453222936122543, -0.04116057643563564, -0.05035581900004768, -0.047824133721195226, -0.04359907246872303, -0.04645877271254067, -0.05907215159223924, -0.07659221342531383, -0.08926917839657536, -0.0874804120561273, -0.06680159399136401, -0.031030123232245126, 0.008346962756917889, 0.036620868966419154, 0.042607947043465225, 0.024134468533013896, -0.011084367570243989, -0.049649755026244614, -0.07872040358610137, -0.09022963790367108, -0.08157271331644851, -0.05464870723612822, -0.015618383852766744, 0.024954708247267785, 0.054067981662709944, 0.061391686110620916, 0.044953873689791125, 0.013127226595461687, -0.019119275741210015, -0.037556538566561506, -0.034970361567103016, -0.012830382404645181, 0.02160010028213021, 0.0596355742415995, 0.09388580467667178, 0.11870263542401348, 0.1300909367887098, 0.12674382598398926, 0.11171324667475974, 0.09238819395141369, 0.07708144647736805, 0.06959046218272653, 0.06591743292609853, 0.05657735635023315, 0.033337292993236706, -0.00500017657012598, -0.052391770983282696, -0.10026189167679339, -0.14219289848070638, -0.17473194623188712, -0.19510267946190485, -0.19958422467021544, -0.18496017982605645, -0.1518045936731534, -0.10616900979316124, -0.05735361258681826, -0.0129132174670805, 0.02512718553048876, 0.05947922994156587, 0.09272418227348439, 0.12255660874766419, 0.14139032795716933, 0.14102381686547427, 0.11897518925814612, 0.0816569381059673, 0.04172261407934684, 0.011120627178009058, -0.005393498604172172, -0.01183289504511823, -0.01688683561419414, -0.027462392343205244, -0.04426144116518571, -0.061573510867741786, -0.0705595048636414, -0.06401226182477777, -0.04058990055946467, -0.006540577071627645, 0.026633249914915, 0.04799657575965007, 0.05298683066521086, 0.04508160876634512, 0.032273376814059174, 0.02134530441498755, 0.014177754323382414, 0.008057578588136216, -0.0012433708353576075, -0.01632773889501469, -0.03674887411928362, -0.05913275679161931, -0.07779419309247688, -0.08566235250119653, -0.07631825712932859, -0.04723940629047922, -0.002583972780046606, 0.046680517753544204, 0.0859563564984358, 0.10207712586403972, 0.08807095582752301, 0.04617257361057314, -0.01152518759810709, -0.06539585070596989, -0.09420961194501629, -0.08377044745401883, -0.03461925047476964, 0.03610567947251565, 0.10118290295848827, 0.13574806668964595, 0.12913425848774746, 0.08940487097120203, 0.0379218904086171, -0.0027908852690951935, -0.020502214785281813, -0.017211380299067172, -0.004027505743965671, 0.008123554612981145, 0.014641887049906436, 0.016618170773421682, 0.01612129195388634, 0.013025482669072738, 0.006142141847494034, -0.0036284442741958984, -0.012349021013762103, -0.01582730179805542, -0.01359690829226007, -0.010315128772021016, -0.013204614167847297, -0.02751202985913405, -0.05324029603537228, -0.0851129133949732, -0.11539405034678815, -0.13754852161240685, -0.14860290476325005, -0.14919686234906848, -0.14172976108016766, -0.1278905061995928, -0.1070776985488396, -0.07683178040885685, -0.0352040265078823, 0.01662093720855848, 0.07358418077092853, 0.12832809910981663, 0.1733156857043317, 0.20178210679790623, 0.20808115837204622, 0.18924307136491197, 0.14784025507877596, 0.09365745728752105, 0.04149510377117311, 0.005198697777831228, -0.008756104672527906, -0.0038968462029852096, 0.009187879588498775, 0.01912007847661037, 0.01887129390550673, 0.0069404315680554746, -0.014505240080366164, -0.041487729364317945, -0.06832234462118225, -0.0871409466777795, -0.08941739184520003, -0.07037046864041542, -0.033623169575133394, 0.00835138420277839, 0.04007908930730758, 0.05203839075714204, 0.046190689657419896, 0.03374424102734497, 0.02684404648477875, 0.030400019225768588, 0.03959037356406193, 0.043921279427369155, 0.03428559132749524, 0.008272975048609634, -0.029024569616568095, -0.06829999225051331, -0.10069692363887489, -0.1208650561338952, -0.127159692418712, -0.12010690081227243, -0.10126283107767617, -0.0735169250787164, -0.04199416936914019]}, {\"mode\": \"markers\", \"name\": \"Peaks\", \"type\": \"scatter\", \"x\": [1.6666666666666665, 2.3666666666666667, 2.966666666666667, 3.6333333333333333, 4.266666666666667, 5.0, 5.833333333333333, 6.433333333333334, 7.333333333333333, 8.566666666666666, 9.266666666666666], \"y\": [0.0636398299926243, 0.13250783612670491, -0.0005268938241242382, 0.14509354187513052, 0.042607947043465225, 0.1300909367887098, 0.14139032795716933, 0.05298683066521086, 0.13574806668964595, 0.20808115837204622, 0.05203839075714204]}],\n",
       "                        {\"font\": {\"color\": \"#7f7f7f\", \"family\": \"Courier New, monospace\", \"size\": 14}, \"height\": 400, \"template\": {\"data\": {\"bar\": [{\"error_x\": {\"color\": \"#2a3f5f\"}, \"error_y\": {\"color\": \"#2a3f5f\"}, \"marker\": {\"line\": {\"color\": \"#E5ECF6\", \"width\": 0.5}}, \"type\": \"bar\"}], \"barpolar\": [{\"marker\": {\"line\": {\"color\": \"#E5ECF6\", \"width\": 0.5}}, \"type\": \"barpolar\"}], \"carpet\": [{\"aaxis\": {\"endlinecolor\": \"#2a3f5f\", \"gridcolor\": \"white\", \"linecolor\": \"white\", \"minorgridcolor\": \"white\", \"startlinecolor\": \"#2a3f5f\"}, \"baxis\": {\"endlinecolor\": \"#2a3f5f\", \"gridcolor\": \"white\", \"linecolor\": \"white\", \"minorgridcolor\": \"white\", \"startlinecolor\": \"#2a3f5f\"}, \"type\": \"carpet\"}], \"choropleth\": [{\"colorbar\": {\"outlinewidth\": 0, \"ticks\": \"\"}, \"type\": \"choropleth\"}], \"contour\": [{\"colorbar\": {\"outlinewidth\": 0, \"ticks\": \"\"}, \"colorscale\": [[0.0, \"#0d0887\"], [0.1111111111111111, \"#46039f\"], [0.2222222222222222, \"#7201a8\"], [0.3333333333333333, \"#9c179e\"], [0.4444444444444444, \"#bd3786\"], [0.5555555555555556, \"#d8576b\"], [0.6666666666666666, \"#ed7953\"], [0.7777777777777778, \"#fb9f3a\"], [0.8888888888888888, \"#fdca26\"], [1.0, \"#f0f921\"]], \"type\": \"contour\"}], \"contourcarpet\": [{\"colorbar\": {\"outlinewidth\": 0, \"ticks\": \"\"}, \"type\": \"contourcarpet\"}], \"heatmap\": [{\"colorbar\": {\"outlinewidth\": 0, \"ticks\": \"\"}, \"colorscale\": [[0.0, \"#0d0887\"], [0.1111111111111111, \"#46039f\"], [0.2222222222222222, \"#7201a8\"], [0.3333333333333333, \"#9c179e\"], [0.4444444444444444, \"#bd3786\"], [0.5555555555555556, \"#d8576b\"], [0.6666666666666666, \"#ed7953\"], [0.7777777777777778, \"#fb9f3a\"], [0.8888888888888888, \"#fdca26\"], [1.0, \"#f0f921\"]], \"type\": \"heatmap\"}], \"heatmapgl\": [{\"colorbar\": {\"outlinewidth\": 0, \"ticks\": \"\"}, \"colorscale\": [[0.0, \"#0d0887\"], [0.1111111111111111, \"#46039f\"], [0.2222222222222222, \"#7201a8\"], [0.3333333333333333, \"#9c179e\"], [0.4444444444444444, \"#bd3786\"], [0.5555555555555556, \"#d8576b\"], [0.6666666666666666, \"#ed7953\"], [0.7777777777777778, \"#fb9f3a\"], [0.8888888888888888, \"#fdca26\"], [1.0, \"#f0f921\"]], \"type\": \"heatmapgl\"}], \"histogram\": [{\"marker\": {\"colorbar\": {\"outlinewidth\": 0, \"ticks\": \"\"}}, \"type\": \"histogram\"}], \"histogram2d\": [{\"colorbar\": {\"outlinewidth\": 0, \"ticks\": \"\"}, \"colorscale\": [[0.0, \"#0d0887\"], [0.1111111111111111, \"#46039f\"], [0.2222222222222222, \"#7201a8\"], [0.3333333333333333, \"#9c179e\"], [0.4444444444444444, \"#bd3786\"], [0.5555555555555556, \"#d8576b\"], [0.6666666666666666, \"#ed7953\"], [0.7777777777777778, \"#fb9f3a\"], [0.8888888888888888, \"#fdca26\"], [1.0, \"#f0f921\"]], \"type\": \"histogram2d\"}], \"histogram2dcontour\": [{\"colorbar\": {\"outlinewidth\": 0, \"ticks\": \"\"}, \"colorscale\": [[0.0, \"#0d0887\"], [0.1111111111111111, \"#46039f\"], [0.2222222222222222, \"#7201a8\"], [0.3333333333333333, \"#9c179e\"], [0.4444444444444444, \"#bd3786\"], [0.5555555555555556, \"#d8576b\"], [0.6666666666666666, \"#ed7953\"], [0.7777777777777778, \"#fb9f3a\"], [0.8888888888888888, \"#fdca26\"], [1.0, \"#f0f921\"]], \"type\": \"histogram2dcontour\"}], \"mesh3d\": [{\"colorbar\": {\"outlinewidth\": 0, \"ticks\": \"\"}, \"type\": \"mesh3d\"}], \"parcoords\": [{\"line\": {\"colorbar\": {\"outlinewidth\": 0, \"ticks\": \"\"}}, \"type\": \"parcoords\"}], \"pie\": [{\"automargin\": true, \"type\": \"pie\"}], \"scatter\": [{\"marker\": {\"colorbar\": {\"outlinewidth\": 0, \"ticks\": \"\"}}, \"type\": \"scatter\"}], \"scatter3d\": [{\"line\": {\"colorbar\": {\"outlinewidth\": 0, \"ticks\": \"\"}}, \"marker\": {\"colorbar\": {\"outlinewidth\": 0, \"ticks\": \"\"}}, \"type\": \"scatter3d\"}], \"scattercarpet\": [{\"marker\": {\"colorbar\": {\"outlinewidth\": 0, \"ticks\": \"\"}}, \"type\": \"scattercarpet\"}], \"scattergeo\": [{\"marker\": {\"colorbar\": {\"outlinewidth\": 0, \"ticks\": \"\"}}, \"type\": \"scattergeo\"}], \"scattergl\": [{\"marker\": {\"colorbar\": {\"outlinewidth\": 0, \"ticks\": \"\"}}, \"type\": \"scattergl\"}], \"scattermapbox\": [{\"marker\": {\"colorbar\": {\"outlinewidth\": 0, \"ticks\": \"\"}}, \"type\": \"scattermapbox\"}], \"scatterpolar\": [{\"marker\": {\"colorbar\": {\"outlinewidth\": 0, \"ticks\": \"\"}}, \"type\": \"scatterpolar\"}], \"scatterpolargl\": [{\"marker\": {\"colorbar\": {\"outlinewidth\": 0, \"ticks\": \"\"}}, \"type\": \"scatterpolargl\"}], \"scatterternary\": [{\"marker\": {\"colorbar\": {\"outlinewidth\": 0, \"ticks\": \"\"}}, \"type\": \"scatterternary\"}], \"surface\": [{\"colorbar\": {\"outlinewidth\": 0, \"ticks\": \"\"}, \"colorscale\": [[0.0, \"#0d0887\"], [0.1111111111111111, \"#46039f\"], [0.2222222222222222, \"#7201a8\"], [0.3333333333333333, \"#9c179e\"], [0.4444444444444444, \"#bd3786\"], [0.5555555555555556, \"#d8576b\"], [0.6666666666666666, \"#ed7953\"], [0.7777777777777778, \"#fb9f3a\"], [0.8888888888888888, \"#fdca26\"], [1.0, \"#f0f921\"]], \"type\": \"surface\"}], \"table\": [{\"cells\": {\"fill\": {\"color\": \"#EBF0F8\"}, \"line\": {\"color\": \"white\"}}, \"header\": {\"fill\": {\"color\": \"#C8D4E3\"}, \"line\": {\"color\": \"white\"}}, \"type\": \"table\"}]}, \"layout\": {\"annotationdefaults\": {\"arrowcolor\": \"#2a3f5f\", \"arrowhead\": 0, \"arrowwidth\": 1}, \"coloraxis\": {\"colorbar\": {\"outlinewidth\": 0, \"ticks\": \"\"}}, \"colorscale\": {\"diverging\": [[0, \"#8e0152\"], [0.1, \"#c51b7d\"], [0.2, \"#de77ae\"], [0.3, \"#f1b6da\"], [0.4, \"#fde0ef\"], [0.5, \"#f7f7f7\"], [0.6, \"#e6f5d0\"], [0.7, \"#b8e186\"], [0.8, \"#7fbc41\"], [0.9, \"#4d9221\"], [1, \"#276419\"]], \"sequential\": [[0.0, \"#0d0887\"], [0.1111111111111111, \"#46039f\"], [0.2222222222222222, \"#7201a8\"], [0.3333333333333333, \"#9c179e\"], [0.4444444444444444, \"#bd3786\"], [0.5555555555555556, \"#d8576b\"], [0.6666666666666666, \"#ed7953\"], [0.7777777777777778, \"#fb9f3a\"], [0.8888888888888888, \"#fdca26\"], [1.0, \"#f0f921\"]], \"sequentialminus\": [[0.0, \"#0d0887\"], [0.1111111111111111, \"#46039f\"], [0.2222222222222222, \"#7201a8\"], [0.3333333333333333, \"#9c179e\"], [0.4444444444444444, \"#bd3786\"], [0.5555555555555556, \"#d8576b\"], [0.6666666666666666, \"#ed7953\"], [0.7777777777777778, \"#fb9f3a\"], [0.8888888888888888, \"#fdca26\"], [1.0, \"#f0f921\"]]}, \"colorway\": [\"#636efa\", \"#EF553B\", \"#00cc96\", \"#ab63fa\", \"#FFA15A\", \"#19d3f3\", \"#FF6692\", \"#B6E880\", \"#FF97FF\", \"#FECB52\"], \"font\": {\"color\": \"#2a3f5f\"}, \"geo\": {\"bgcolor\": \"white\", \"lakecolor\": \"white\", \"landcolor\": \"#E5ECF6\", \"showlakes\": true, \"showland\": true, \"subunitcolor\": \"white\"}, \"hoverlabel\": {\"align\": \"left\"}, \"hovermode\": \"closest\", \"mapbox\": {\"style\": \"light\"}, \"paper_bgcolor\": \"white\", \"plot_bgcolor\": \"#E5ECF6\", \"polar\": {\"angularaxis\": {\"gridcolor\": \"white\", \"linecolor\": \"white\", \"ticks\": \"\"}, \"bgcolor\": \"#E5ECF6\", \"radialaxis\": {\"gridcolor\": \"white\", \"linecolor\": \"white\", \"ticks\": \"\"}}, \"scene\": {\"xaxis\": {\"backgroundcolor\": \"#E5ECF6\", \"gridcolor\": \"white\", \"gridwidth\": 2, \"linecolor\": \"white\", \"showbackground\": true, \"ticks\": \"\", \"zerolinecolor\": \"white\"}, \"yaxis\": {\"backgroundcolor\": \"#E5ECF6\", \"gridcolor\": \"white\", \"gridwidth\": 2, \"linecolor\": \"white\", \"showbackground\": true, \"ticks\": \"\", \"zerolinecolor\": \"white\"}, \"zaxis\": {\"backgroundcolor\": \"#E5ECF6\", \"gridcolor\": \"white\", \"gridwidth\": 2, \"linecolor\": \"white\", \"showbackground\": true, \"ticks\": \"\", \"zerolinecolor\": \"white\"}}, \"shapedefaults\": {\"line\": {\"color\": \"#2a3f5f\"}}, \"ternary\": {\"aaxis\": {\"gridcolor\": \"white\", \"linecolor\": \"white\", \"ticks\": \"\"}, \"baxis\": {\"gridcolor\": \"white\", \"linecolor\": \"white\", \"ticks\": \"\"}, \"bgcolor\": \"#E5ECF6\", \"caxis\": {\"gridcolor\": \"white\", \"linecolor\": \"white\", \"ticks\": \"\"}}, \"title\": {\"x\": 0.05}, \"xaxis\": {\"automargin\": true, \"gridcolor\": \"white\", \"linecolor\": \"white\", \"ticks\": \"\", \"title\": {\"standoff\": 15}, \"zerolinecolor\": \"white\", \"zerolinewidth\": 2}, \"yaxis\": {\"automargin\": true, \"gridcolor\": \"white\", \"linecolor\": \"white\", \"ticks\": \"\", \"title\": {\"standoff\": 15}, \"zerolinecolor\": \"white\", \"zerolinewidth\": 2}}}, \"title\": {\"text\": \"BVP signal + peaks\"}, \"width\": 800},\n",
       "                        {\"responsive\": true}\n",
       "                    ).then(function(){\n",
       "                            \n",
       "var gd = document.getElementById('5f51d3ca-0773-404a-8b6e-b83634623f82');\n",
       "var x = new MutationObserver(function (mutations, observer) {{\n",
       "        var display = window.getComputedStyle(gd).display;\n",
       "        if (!display || display === 'none') {{\n",
       "            console.log([gd, 'removed!']);\n",
       "            Plotly.purge(gd);\n",
       "            observer.disconnect();\n",
       "        }}\n",
       "}});\n",
       "\n",
       "// Listen for the removal of the full notebook cells\n",
       "var notebookContainer = gd.closest('#notebook-container');\n",
       "if (notebookContainer) {{\n",
       "    x.observe(notebookContainer, {childList: true});\n",
       "}}\n",
       "\n",
       "// Listen for the clearing of the current output cell\n",
       "var outputEl = gd.closest('.output');\n",
       "if (outputEl) {{\n",
       "    x.observe(outputEl, {childList: true});\n",
       "}}\n",
       "\n",
       "                        })\n",
       "                };\n",
       "                });\n",
       "            </script>\n",
       "        </div>"
      ]
     },
     "metadata": {},
     "output_type": "display_data"
    },
    {
     "data": {
      "image/png": "[encoded data removed]",
      "text/plain": [
       "<Figure size 432x288 with 1 Axes>"
      ]
     },
     "metadata": {
      "needs_background": "light"
     },
     "output_type": "display_data"
    },
    {
     "name": "stdout",
     "output_type": "stream",
     "text": [
      "I am lf_psd\n"
     ]
    },
    {
     "data": {
      "image/png": "[encoded data removed]",
      "text/plain": [
       "<Figure size 432x288 with 1 Axes>"
      ]
     },
     "metadata": {
      "needs_background": "light"
     },
     "output_type": "display_data"
    },
    {
     "name": "stdout",
     "output_type": "stream",
     "text": [
      "I am hf_psd\n"
     ]
    },
    {
     "data": {
      "image/png": "[encoded data removed]",
      "text/plain": [
       "<Figure size 432x288 with 1 Axes>"
      ]
     },
     "metadata": {
      "needs_background": "light"
     },
     "output_type": "display_data"
    }
   ],
   "source": [
    "cfgFilename = '/Users/rupakkatwal/Downloads/pyVHR-master/pyVHR/analysis/sample.cfg'\n",
    "test = TestSuite(configFilename=cfgFilename) \n",
    "result1= test.start(outFilename='sampleExp.h5',verb = 1)"
   ]
  },
  {
   "cell_type": "code",
   "execution_count": null,
   "metadata": {
    "scrolled": true
   },
   "outputs": [],
   "source": [
    "result1.dataFrame"
   ]
  },
  {
   "cell_type": "code",
   "execution_count": null,
   "metadata": {
    "scrolled": true
   },
   "outputs": [],
   "source": [
    "a = result1.dataFrame.shape\n",
    "for i in range(a[0]):\n",
    "    systolic_peak = result1.dataFrame.loc[i,\"systolic_peak\"]\n",
    "    diastolic_peak = result1.dataFrame.loc[i,\"diastolic_peak\"]\n",
    "    Red_P = result1.dataFrame.loc[i,\"Red_P\"]\n",
    "    Red_R = result1.dataFrame.loc[i,\"Red_R\"]\n",
    "    Green_P = result1.dataFrame.loc[i,\"Green_P\"]\n",
    "    Green_R = result1.dataFrame.loc[i,\"Green_R\"]\n",
    "    Blue_P = result1.dataFrame.loc[i,\"Blue_P\"]\n",
    "    Blue_R = result1.dataFrame.loc[i,\"Blue_R\"]\n",
    "    SPO2 = result1.dataFrame.loc[i,\"SPO2\"]\n",
    "    BVP_ratio = result1.dataFrame.loc[i,\"BVP_ratio\"]\n",
    "    BVP_max = result1.dataFrame.loc[i,\"BVP_max\"]\n",
    "    BVP_mean = result1.dataFrame.loc[i,\"BVP_mean\"]\n",
    "    BVP_STD = result1.dataFrame.loc[i,\"BVP_STD\"]\n",
    "    LF_P = result1.dataFrame.loc[i,\"LF_P\"]\n",
    "    LF_R = result1.dataFrame.loc[i,\"LF_R\"]\n",
    "    AUC_LF = result1.dataFrame.loc[i,\"AUC_LF\"]\n",
    "    HF_P = result1.dataFrame.loc[i,\"HF_P\"]\n",
    "    HF_R = result1.dataFrame.loc[i,\"HF_R\"]\n",
    "    AUC_HF = result1.dataFrame.loc[i,\"AUC_HF\"]\n",
    "    LF_HF = result1.dataFrame.loc[i,\"LF_HF\"]\n",
    "    Method_P = result1.dataFrame.loc[i,\"Method_P\"]\n",
    "    Method_R = result1.dataFrame.loc[i,\"Method_R\"]\n",
    "    Method_AUC = result1.dataFrame.loc[i,\"Method_AUC\"]\n",
    "    csvName = result1.dataFrame.loc[i,\"videoFilename\"]\n",
    "    print(csvName + \".csv\")\n",
    "    df = pd.DataFrame({\"systolic_peak\" : [systolic_peak],\"diastolic_peak\" : [diastolic_peak], \"Red_P\" : [Red_P],\"Red_R\" : [Red_R],\"Green_P\" : [Green_P], \"Green_R\" : [Green_R], \"Blue_P\" : [Blue_P], \"Blue_R\" : [Blue_R],\"SPO2\": [SPO2],\"BVP_ratio\": [BVP_ratio],\"BVP_max\": [BVP_max],\"BVP_mean\": [BVP_mean],\"BVP_STD\": [BVP_STD],\"LF_P\": [LF_P],\"LF_R\": [LF_R],\"AUC_LF\": [AUC_LF],\"HF_P\": [HF_P],\"HF_R\": [HF_R],\"AUC_HF\": [AUC_HF],\"LF_HF\": [LF_HF],\"Method_P\": [Method_P],\"Method_R\": [Method_R],\"Method_AUC\": [Method_AUC]},columns=['systolic_peak','diastolic_peak', 'Red_P','Red_R','Green_P', 'Green_R','Blue_P','Blue_R','SPO2', 'BVP_ratio', 'BVP_max','BVP_mean','BVP_STD','LF_P','LF_R','AUC_LF','HF_P','HF_R','AUC_HF','LF_HF','Method_P','Method_R','Method_AUC'])\n",
    "    df.to_csv(csvName + \".csv\", index = False)"
   ]
  },
  {
   "cell_type": "code",
   "execution_count": 82,
   "metadata": {},
   "outputs": [
    {
     "data": {
      "text/html": [
       "<style  type=\"text/css\" >\n",
       "</style><table id=\"T_2f28e940_b167_11eb_8340_acde48001122\" ><thead>    <tr>        <th class=\"blank level0\" ></th>        <th class=\"col_heading level0 col0\" >systolic_peak</th>        <th class=\"col_heading level0 col1\" >diastolic_peak</th>        <th class=\"col_heading level0 col2\" >Red_P</th>        <th class=\"col_heading level0 col3\" >Red_R</th>        <th class=\"col_heading level0 col4\" >Green_P</th>        <th class=\"col_heading level0 col5\" >Green_R</th>        <th class=\"col_heading level0 col6\" >Blue_P</th>        <th class=\"col_heading level0 col7\" >Blue_R</th>        <th class=\"col_heading level0 col8\" >SPO2</th>        <th class=\"col_heading level0 col9\" >BVP_ratio</th>        <th class=\"col_heading level0 col10\" >BVP_max</th>        <th class=\"col_heading level0 col11\" >BVP_mean</th>        <th class=\"col_heading level0 col12\" >BVP_STD</th>        <th class=\"col_heading level0 col13\" >LF_P</th>        <th class=\"col_heading level0 col14\" >LF_R</th>        <th class=\"col_heading level0 col15\" >AUC_LF</th>        <th class=\"col_heading level0 col16\" >HF_P</th>        <th class=\"col_heading level0 col17\" >HF_R</th>        <th class=\"col_heading level0 col18\" >AUC_HF</th>        <th class=\"col_heading level0 col19\" >LF_HF</th>        <th class=\"col_heading level0 col20\" >Method_P</th>        <th class=\"col_heading level0 col21\" >Method_R</th>        <th class=\"col_heading level0 col22\" >Method_AUC</th>    </tr></thead><tbody>\n",
       "                <tr>\n",
       "                        <th id=\"T_2f28e940_b167_11eb_8340_acde48001122level0_row0\" class=\"row_heading level0 row0\" >0</th>\n",
       "                        <td id=\"T_2f28e940_b167_11eb_8340_acde48001122row0_col0\" class=\"data row0 col0\" ></td>\n",
       "                        <td id=\"T_2f28e940_b167_11eb_8340_acde48001122row0_col1\" class=\"data row0 col1\" ></td>\n",
       "                        <td id=\"T_2f28e940_b167_11eb_8340_acde48001122row0_col2\" class=\"data row0 col2\" >0.416518</td>\n",
       "                        <td id=\"T_2f28e940_b167_11eb_8340_acde48001122row0_col3\" class=\"data row0 col3\" >0.037212</td>\n",
       "                        <td id=\"T_2f28e940_b167_11eb_8340_acde48001122row0_col4\" class=\"data row0 col4\" >0.570240</td>\n",
       "                        <td id=\"T_2f28e940_b167_11eb_8340_acde48001122row0_col5\" class=\"data row0 col5\" >0.040211</td>\n",
       "                        <td id=\"T_2f28e940_b167_11eb_8340_acde48001122row0_col6\" class=\"data row0 col6\" >0.791218</td>\n",
       "                        <td id=\"T_2f28e940_b167_11eb_8340_acde48001122row0_col7\" class=\"data row0 col7\" >0.037621</td>\n",
       "                        <td id=\"T_2f28e940_b167_11eb_8340_acde48001122row0_col8\" class=\"data row0 col8\" >96.427647</td>\n",
       "                        <td id=\"T_2f28e940_b167_11eb_8340_acde48001122row0_col9\" class=\"data row0 col9\" >0.242478</td>\n",
       "                        <td id=\"T_2f28e940_b167_11eb_8340_acde48001122row0_col10\" class=\"data row0 col10\" >0.127470</td>\n",
       "                        <td id=\"T_2f28e940_b167_11eb_8340_acde48001122row0_col11\" class=\"data row0 col11\" >0.004493</td>\n",
       "                        <td id=\"T_2f28e940_b167_11eb_8340_acde48001122row0_col12\" class=\"data row0 col12\" >0.066775</td>\n",
       "                        <td id=\"T_2f28e940_b167_11eb_8340_acde48001122row0_col13\" class=\"data row0 col13\" >0.000098</td>\n",
       "                        <td id=\"T_2f28e940_b167_11eb_8340_acde48001122row0_col14\" class=\"data row0 col14\" >0.142352</td>\n",
       "                        <td id=\"T_2f28e940_b167_11eb_8340_acde48001122row0_col15\" class=\"data row0 col15\" >0.000603</td>\n",
       "                        <td id=\"T_2f28e940_b167_11eb_8340_acde48001122row0_col16\" class=\"data row0 col16\" >0.000063</td>\n",
       "                        <td id=\"T_2f28e940_b167_11eb_8340_acde48001122row0_col17\" class=\"data row0 col17\" >0.165367</td>\n",
       "                        <td id=\"T_2f28e940_b167_11eb_8340_acde48001122row0_col18\" class=\"data row0 col18\" >0.000350</td>\n",
       "                        <td id=\"T_2f28e940_b167_11eb_8340_acde48001122row0_col19\" class=\"data row0 col19\" >1.724414</td>\n",
       "                        <td id=\"T_2f28e940_b167_11eb_8340_acde48001122row0_col20\" class=\"data row0 col20\" >0.010298</td>\n",
       "                        <td id=\"T_2f28e940_b167_11eb_8340_acde48001122row0_col21\" class=\"data row0 col21\" >0.029765</td>\n",
       "                        <td id=\"T_2f28e940_b167_11eb_8340_acde48001122row0_col22\" class=\"data row0 col22\" >0.345770</td>\n",
       "            </tr>\n",
       "    </tbody></table>"
      ],
      "text/plain": [
       "<pandas.io.formats.style.Styler at 0x7fee15ca6a00>"
      ]
     },
     "execution_count": 82,
     "metadata": {},
     "output_type": "execute_result"
    }
   ],
   "source": [
    "df.style"
   ]
  },
  {
   "cell_type": "code",
   "execution_count": null,
   "metadata": {},
   "outputs": [],
   "source": []
  },
  {
   "cell_type": "code",
   "execution_count": null,
   "metadata": {},
   "outputs": [],
   "source": []
  }
 ],
 "metadata": {
  "kernelspec": {
   "display_name": "Python 3 (ipykernel)",
   "language": "python",
   "name": "python3"
  },
  "language_info": {
   "codemirror_mode": {
    "name": "ipython",
    "version": 3
   },
   "file_extension": ".py",
   "mimetype": "text/x-python",
   "name": "python",
   "nbconvert_exporter": "python",
   "pygments_lexer": "ipython3",
   "version": "3.9.4"
  }
 },
 "nbformat": 4,
 "nbformat_minor": 4
}
